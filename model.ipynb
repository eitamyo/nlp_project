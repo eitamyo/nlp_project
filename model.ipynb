{
 "cells": [
  {
   "cell_type": "markdown",
   "id": "18db031b",
   "metadata": {},
   "source": [
    "# Import Required Libraries\n",
    "Import torch and the necessary classes from the transformers library."
   ]
  },
  {
   "cell_type": "code",
   "execution_count": 1,
   "id": "08362824",
   "metadata": {},
   "outputs": [
    {
     "name": "stderr",
     "output_type": "stream",
     "text": [
      "c:\\Users\\eitam\\miniconda3\\envs\\nikud-bert\\lib\\site-packages\\tqdm\\auto.py:21: TqdmWarning: IProgress not found. Please update jupyter and ipywidgets. See https://ipywidgets.readthedocs.io/en/stable/user_install.html\n",
      "  from .autonotebook import tqdm as notebook_tqdm\n"
     ]
    }
   ],
   "source": [
    "import torch\n",
    "from transformers import AutoTokenizer, AutoModel"
   ]
  },
  {
   "cell_type": "markdown",
   "id": "d26e297a",
   "metadata": {},
   "source": [
    "# Load Tokenizer and Model\n",
    "Load the AutoTokenizer and AutoModel for 'dicta-il/dictabert-large-char-menaked'. Set the model to evaluation mode."
   ]
  },
  {
   "cell_type": "code",
   "execution_count": 2,
   "id": "58436999",
   "metadata": {},
   "outputs": [
    {
     "data": {
      "text/plain": [
       "BertForDiacritization(\n",
       "  (bert): BertModel(\n",
       "    (embeddings): BertEmbeddings(\n",
       "      (word_embeddings): Embedding(1024, 1024, padding_idx=0)\n",
       "      (position_embeddings): Embedding(2048, 1024)\n",
       "      (token_type_embeddings): Embedding(2, 1024)\n",
       "      (LayerNorm): LayerNorm((1024,), eps=1e-12, elementwise_affine=True)\n",
       "      (dropout): Dropout(p=0.1, inplace=False)\n",
       "    )\n",
       "    (encoder): BertEncoder(\n",
       "      (layer): ModuleList(\n",
       "        (0-23): 24 x BertLayer(\n",
       "          (attention): BertAttention(\n",
       "            (self): BertSdpaSelfAttention(\n",
       "              (query): Linear(in_features=1024, out_features=1024, bias=True)\n",
       "              (key): Linear(in_features=1024, out_features=1024, bias=True)\n",
       "              (value): Linear(in_features=1024, out_features=1024, bias=True)\n",
       "              (dropout): Dropout(p=0.1, inplace=False)\n",
       "            )\n",
       "            (output): BertSelfOutput(\n",
       "              (dense): Linear(in_features=1024, out_features=1024, bias=True)\n",
       "              (LayerNorm): LayerNorm((1024,), eps=1e-12, elementwise_affine=True)\n",
       "              (dropout): Dropout(p=0.1, inplace=False)\n",
       "            )\n",
       "          )\n",
       "          (intermediate): BertIntermediate(\n",
       "            (dense): Linear(in_features=1024, out_features=4096, bias=True)\n",
       "            (intermediate_act_fn): GELUActivation()\n",
       "          )\n",
       "          (output): BertOutput(\n",
       "            (dense): Linear(in_features=4096, out_features=1024, bias=True)\n",
       "            (LayerNorm): LayerNorm((1024,), eps=1e-12, elementwise_affine=True)\n",
       "            (dropout): Dropout(p=0.1, inplace=False)\n",
       "          )\n",
       "        )\n",
       "      )\n",
       "    )\n",
       "  )\n",
       "  (dropout): Dropout(p=0.1, inplace=False)\n",
       "  (menaked): BertMenakedHead(\n",
       "    (nikud_cls): Linear(in_features=1024, out_features=29, bias=True)\n",
       "    (shin_cls): Linear(in_features=1024, out_features=2, bias=True)\n",
       "  )\n",
       ")"
      ]
     },
     "execution_count": 2,
     "metadata": {},
     "output_type": "execute_result"
    }
   ],
   "source": [
    "# Load tokenizer and model\n",
    "tokenizer = AutoTokenizer.from_pretrained(\n",
    "    'dicta-il/dictabert-large-char-menaked'\n",
    ")\n",
    "model = AutoModel.from_pretrained(\n",
    "    'dicta-il/dictabert-large-char-menaked',\n",
    "    trust_remote_code=True  # required for custom model logic\n",
    ")\n",
    "\n",
    "model.eval()  # set model to evaluation mode"
   ]
  },
  {
   "cell_type": "markdown",
   "id": "d9513c9a",
   "metadata": {},
   "source": [
    "# Prepare Input Sentences\n",
    "Define a list of Hebrew sentences to use as input for the model."
   ]
  },
  {
   "cell_type": "code",
   "execution_count": 3,
   "id": "5a97c4c1",
   "metadata": {},
   "outputs": [],
   "source": [
    "# Prepare your input sentences (can be a list)\n",
    "sentences = [\n",
    "    \"בשנת 1948 השלים אפרים קישון את לימודיו בפיסול מתכת ובתולדות האמנות והחל לפרסם מאמרים הומוריסטיים\",\n",
    "    \"שלום עולם\"\n",
    "]"
   ]
  },
  {
   "cell_type": "markdown",
   "id": "b54a5b49",
   "metadata": {},
   "source": [
    "# Run Inference Without Matres Lectionis\n",
    "Use the model's predict method on the input sentences without marking matres lectionis. Store the outputs."
   ]
  },
  {
   "cell_type": "code",
   "execution_count": 4,
   "id": "965dee35",
   "metadata": {},
   "outputs": [],
   "source": [
    "# Run inference without matres lectionis\n",
    "output_without = model.predict(sentences, tokenizer)"
   ]
  },
  {
   "cell_type": "markdown",
   "id": "d1597e74",
   "metadata": {},
   "source": [
    "# Run Inference With Matres Lectionis Marked\n",
    "Use the model's predict method on the input sentences, marking matres lectionis with '*'. Store the outputs."
   ]
  },
  {
   "cell_type": "code",
   "execution_count": 5,
   "id": "cd9e0278",
   "metadata": {},
   "outputs": [],
   "source": [
    "# Run inference with matres lectionis marked with '*'\n",
    "output_with = model.predict(sentences, tokenizer, mark_matres_lectionis='*')"
   ]
  },
  {
   "cell_type": "markdown",
   "id": "26c7891e",
   "metadata": {},
   "source": [
    "# Display Model Outputs\n",
    "Print the outputs for both inference runs for comparison."
   ]
  },
  {
   "cell_type": "code",
   "execution_count": 6,
   "id": "7bdc3a47",
   "metadata": {},
   "outputs": [
    {
     "name": "stdout",
     "output_type": "stream",
     "text": [
      "Without matres lectionis:\n",
      "בִּשְׁנַת 1948 הִשְׁלִים אֶפְרַיִם קִישׁוֹן אֶת לִמּוּדָיו בְּפִסּוּל מַתֶּכֶת וּבְתוֹלְדוֹת הָאׇמָּנוּת וְהֵחֵל לְפַרְסֵם מַאֲמָרִים הוּמוֹרִיסְטִיִּים\n",
      "שְׁלוֹם עוֹלָם\n",
      "\n",
      "With matres lectionis (marked):\n",
      "בִּשְׁנַת 1948 הִשְׁלִים אֶפְרַיִם קִישׁוֹן אֶת לִי*מּוּדָיו בְּפִי*סּוּל מַתֶּכֶת וּבְתוֹלְדוֹת הָאׇמָּנוּת וְהֵחֵל לְפַרְסֵם מַאֲמָרִים הוּמוֹרִיסְטִיִּים\n",
      "שְׁלוֹם עוֹלָם\n"
     ]
    }
   ],
   "source": [
    "print(\"Without matres lectionis:\")\n",
    "for out in output_without:\n",
    "    print(out)\n",
    "\n",
    "print(\"\\nWith matres lectionis (marked):\")\n",
    "for out in output_with:\n",
    "    print(out)"
   ]
  }
 ],
 "metadata": {
  "kernelspec": {
   "display_name": "nikud-bert",
   "language": "python",
   "name": "python3"
  },
  "language_info": {
   "codemirror_mode": {
    "name": "ipython",
    "version": 3
   },
   "file_extension": ".py",
   "mimetype": "text/x-python",
   "name": "python",
   "nbconvert_exporter": "python",
   "pygments_lexer": "ipython3",
   "version": "3.10.18"
  }
 },
 "nbformat": 4,
 "nbformat_minor": 5
}

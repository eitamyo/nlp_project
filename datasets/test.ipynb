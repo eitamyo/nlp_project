{
 "cells": [
  {
   "cell_type": "code",
   "execution_count": 1,
   "id": "ed5b1d04",
   "metadata": {},
   "outputs": [
    {
     "name": "stderr",
     "output_type": "stream",
     "text": [
      "c:\\Users\\eitam\\miniconda3\\envs\\nikud-bert\\lib\\site-packages\\tqdm\\auto.py:21: TqdmWarning: IProgress not found. Please update jupyter and ipywidgets. See https://ipywidgets.readthedocs.io/en/stable/user_install.html\n",
      "  from .autonotebook import tqdm as notebook_tqdm\n"
     ]
    }
   ],
   "source": [
    "import re\n",
    "from datasets import load_dataset"
   ]
  },
  {
   "cell_type": "code",
   "execution_count": 2,
   "id": "b9226c7e",
   "metadata": {},
   "outputs": [],
   "source": [
    "# Regex pattern to match Hebrew diacritics (some common nikud characters)\n",
    "NIKUD_PATTERN = re.compile(\n",
    "    '['\n",
    "    '\\u05B0'  # sheva\n",
    "    '\\u05B1'  # hataf segol\n",
    "    '\\u05B2'  # hataf patah\n",
    "    '\\u05B3'  # hataf qamats\n",
    "    '\\u05B4'  # hiriq\n",
    "    '\\u05B5'  # tsere\n",
    "    '\\u05B6'  # segol\n",
    "    '\\u05B7'  # patah\n",
    "    '\\u05B8'  # qamats\n",
    "    '\\u05B9'  # holam\n",
    "    '\\u05BB'  # qubuts\n",
    "    '\\u05BC'  # dagesh or mapiq\n",
    "    '\\u05BD'  # meteg\n",
    "    '\\u05BF'  # rafe (rare)\n",
    "    '\\u05C1'  # shin dot\n",
    "    '\\u05C2'  # sin dot\n",
    "    '\\u05C7'  # qamats qatan\n",
    "    ']'\n",
    ")\n",
    "\n",
    "def has_nikud(text: str) -> bool:\n",
    "    \"\"\"Return True if text contains any Hebrew nikud diacritic.\"\"\"\n",
    "    if text is None:\n",
    "        return False\n",
    "    return bool(NIKUD_PATTERN.search(text))\n"
   ]
  },
  {
   "cell_type": "code",
   "execution_count": null,
   "id": "fb8ab6ad",
   "metadata": {},
   "outputs": [
    {
     "name": "stderr",
     "output_type": "stream",
     "text": [
      "c:\\Users\\eitam\\miniconda3\\envs\\nikud-bert\\lib\\site-packages\\huggingface_hub\\file_download.py:801: UserWarning: Not enough free disk space to download the file. The expected file size is: 47576.25 MB. The target location C:\\Users\\eitam\\.cache\\huggingface\\hub\\datasets--HeNLP--HeDC4\\blobs only has 17265.81 MB free disk space.\n",
      "  warnings.warn(\n",
      "Xet Storage is enabled for this repo, but the 'hf_xet' package is not installed. Falling back to regular HTTP download. For better performance, install the package with: `pip install huggingface_hub[hf_xet]` or `pip install hf_xet`\n"
     ]
    }
   ],
   "source": [
    "# Load the dataset\n",
    "ds = load_dataset(\"HeNLP/HeDC4\", split=\"train\")\n",
    "\n",
    "# Inspect what the fields are\n",
    "print(ds.column_names)"
   ]
  },
  {
   "cell_type": "code",
   "execution_count": null,
   "id": "268b2684",
   "metadata": {},
   "outputs": [],
   "source": [
    "# Suppose the field with Hebrew text is \"text\" (adjust if different)\n",
    "\n",
    "# Filter rows\n",
    "ds_with_nikud = ds.filter(lambda example: has_nikud(example['text']))\n",
    "\n",
    "# Optionally: save to disk\n",
    "ds_with_nikud.to_csv(\"HeDC4_with_nikud.csv\", index=False)\n",
    "# or Parquet\n",
    "# ds_with_nikud.to_parquet(\"HeDC4_with_nikud.parquet\")\n",
    "\n",
    "print(f\"Original size: {len(ds)}, Filtered size: {len(ds_with_nikud)}\")"
   ]
  }
 ],
 "metadata": {
  "kernelspec": {
   "display_name": "nikud-bert",
   "language": "python",
   "name": "python3"
  },
  "language_info": {
   "codemirror_mode": {
    "name": "ipython",
    "version": 3
   },
   "file_extension": ".py",
   "mimetype": "text/x-python",
   "name": "python",
   "nbconvert_exporter": "python",
   "pygments_lexer": "ipython3",
   "version": "3.10.18"
  }
 },
 "nbformat": 4,
 "nbformat_minor": 5
}

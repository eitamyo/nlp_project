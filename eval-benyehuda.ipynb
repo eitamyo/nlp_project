{
 "cells": [
  {
   "cell_type": "code",
   "execution_count": 1,
   "id": "ad22061e",
   "metadata": {},
   "outputs": [],
   "source": [
    "import pandas as pd\n",
    "import utils.hebrew_tokenizer as ht\n",
    "\n",
    "df = pd.read_csv('./datasets/projectbenyehuda/benyehuda_nikud_dataset_filtered.csv')\n",
    "# df = pd.read_csv('./datasets/projectbenyehuda/benyehuda_nikud_dataset_with_uncertainty.csv')"
   ]
  },
  {
   "cell_type": "code",
   "execution_count": 2,
   "id": "4c480027",
   "metadata": {},
   "outputs": [
    {
     "data": {
      "text/plain": [
       "(60315, 6)"
      ]
     },
     "execution_count": 2,
     "metadata": {},
     "output_type": "execute_result"
    }
   ],
   "source": [
    "df.shape"
   ]
  },
  {
   "cell_type": "code",
   "execution_count": 3,
   "id": "69a4f965",
   "metadata": {},
   "outputs": [],
   "source": [
    "import ast\n",
    "\n",
    "def mask_str(mask):\n",
    "    if isinstance(mask, str):\n",
    "        mask = ast.literal_eval(mask)\n",
    "    return \"\".join([str(x) for x in mask])"
   ]
  },
  {
   "cell_type": "code",
   "execution_count": 4,
   "id": "d007d6ef",
   "metadata": {},
   "outputs": [
    {
     "data": {
      "application/vnd.jupyter.widget-view+json": {
       "model_id": "4c3964bddf434ff390cbedc4a0e51f4a",
       "version_major": 2,
       "version_minor": 0
      },
      "text/plain": [
       "Checking mask lengths:   0%|          | 0/60315 [00:00<?, ?it/s]"
      ]
     },
     "metadata": {},
     "output_type": "display_data"
    },
    {
     "name": "stderr",
     "output_type": "stream",
     "text": [
      "Token indices sequence length is longer than the specified maximum sequence length for this model (2494 > 2048). Running this sequence through the model will result in indexing errors\n"
     ]
    },
    {
     "data": {
      "text/plain": [
       "(23, 6)"
      ]
     },
     "execution_count": 4,
     "metadata": {},
     "output_type": "execute_result"
    }
   ],
   "source": [
    "from tqdm.notebook import tqdm\n",
    "\n",
    "mask_lengths = []\n",
    "for _, row in tqdm(df.iterrows(), total=len(df), desc=\"Checking mask lengths\"):\n",
    "    mask_lengths.append(len(ht.get_nikud_mask(row['text'])[1]))\n",
    "\n",
    "mismatch_rows = df[[mask_len != row['nikud_mask_length'] for mask_len, (_, row) in zip(mask_lengths, df.iterrows())]]\n",
    "mismatch_rows.shape"
   ]
  },
  {
   "cell_type": "code",
   "execution_count": 5,
   "id": "87ecf682",
   "metadata": {},
   "outputs": [
    {
     "name": "stderr",
     "output_type": "stream",
     "text": [
      "C:\\Users\\eitam\\AppData\\Local\\Temp\\ipykernel_14548\\2918813076.py:1: SettingWithCopyWarning: \n",
      "A value is trying to be set on a copy of a slice from a DataFrame.\n",
      "Try using .loc[row_indexer,col_indexer] = value instead\n",
      "\n",
      "See the caveats in the documentation: https://pandas.pydata.org/pandas-docs/stable/user_guide/indexing.html#returning-a-view-versus-a-copy\n",
      "  mismatch_rows['diff'] = [len(ht.get_nikud_mask(row['text'])[1]) - row['nikud_mask_length'] for _, row in mismatch_rows.iterrows()]\n"
     ]
    },
    {
     "data": {
      "text/plain": [
       "diff\n",
       "-1    23\n",
       "dtype: int64"
      ]
     },
     "execution_count": 5,
     "metadata": {},
     "output_type": "execute_result"
    }
   ],
   "source": [
    "mismatch_rows['diff'] = [len(ht.get_nikud_mask(row['text'])[1]) - row['nikud_mask_length'] for _, row in mismatch_rows.iterrows()]\n",
    "grouped = mismatch_rows.groupby('diff')\n",
    "grouped.size()"
   ]
  },
  {
   "cell_type": "code",
   "execution_count": 6,
   "id": "8881d602",
   "metadata": {},
   "outputs": [
    {
     "name": "stdout",
     "output_type": "stream",
     "text": [
      "&nbsp;↩ מולא צייטלין פרסם בעיתון “הבֹקר” כמו גם בעיתונים נוספים ציורים וקריקטורות\n",
      "[CLS] & n b s p ; [UNK]   מ ו ל א   צ י י ט ל י ן   פ ר ס ם   ב ע י ת ו ן   “ ה ב ק ר ”   כ מ ו   ג ם   ב ע י ת ו נ י ם   נ ו ס פ י ם   צ י ו ר י ם   ו ק ר י ק ט ו ר ו ת [SEP]\n",
      "0000000000000000000000000000000000001000000000000000000000000000000000000000000000\n",
      "00000000000000000000000000000000000010000000000000000000000000000000000000000000000\n"
     ]
    }
   ],
   "source": [
    "x = grouped.get_group(-1).iloc[10]\n",
    "print(x['text'])\n",
    "input_ids, nikud_mask = ht.get_nikud_mask(x['text'])\n",
    "print(ht.tokenizer.decode(input_ids))\n",
    "print(mask_str(nikud_mask))\n",
    "print(mask_str(x['nikud_mask']))"
   ]
  },
  {
   "cell_type": "code",
   "execution_count": 7,
   "id": "011aec8a",
   "metadata": {},
   "outputs": [
    {
     "data": {
      "text/plain": [
       "id                                                               24887\n",
       "title                                אדוני המדבר תולדות הנבטים וממלכתם\n",
       "text                 הוא מינה את הירונימוס, כותב ההיסטוריה, לפקח על...\n",
       "nikud_mask           [0, 0, 0, 0, 0, 0, 0, 0, 0, 0, 0, 0, 0, 0, 0, ...\n",
       "text_length                                                        131\n",
       "nikud_mask_length                                                  132\n",
       "Name: 16540, dtype: object"
      ]
     },
     "execution_count": 7,
     "metadata": {},
     "output_type": "execute_result"
    }
   ],
   "source": [
    "sample = df.sample(1)\n",
    "sample.iloc[0]"
   ]
  },
  {
   "cell_type": "code",
   "execution_count": 8,
   "id": "a14f1f07",
   "metadata": {},
   "outputs": [
    {
     "name": "stdout",
     "output_type": "stream",
     "text": [
      "[CLS] ה ו א   מ י נ ה   א ת   ה י ר ו נ י מ ו ס,   כ ו ת ב   ה ה י ס ט ו ר י ה,   ל פ ק ח   ע ל   נ י צ ו ל   ה א ס פ ל ט   ו צ י ו ו ה   ע ל י ו   ל ה כ י ן   ס י ר ו ת,   ל א ס ו ף   א ס פ ל ט   כ כ ל   ש י ו כ ל   ו ל ה ב י א   א ו ת ו   ל מ ק ו ם   מ ס ו י ם [SEP] 132 132\n"
     ]
    }
   ],
   "source": [
    "input_ids, nikud_mask = ht.get_nikud_mask(sample.iloc[0]['text'])\n",
    "print(ht.tokenizer.decode(input_ids), len(mask_str(nikud_mask)), len(mask_str(sample.iloc[0]['nikud_mask'])))"
   ]
  },
  {
   "cell_type": "code",
   "execution_count": 9,
   "id": "fd19b5d2",
   "metadata": {},
   "outputs": [
    {
     "data": {
      "text/plain": [
       "('הוא מינה את הירונימוס, כותב ההיסטוריה, לפקח על ניצול האספלט וציווה עליו להכין סירות, לאסוף אספלט ככל שיוכל ולהביא אותו למקום מסוּים',\n",
       " '000000000000000000000000000000000000000000000000000000000000000000000000000000000000000000000000000000000000000000000000000000001000',\n",
       " '000000000000000000000000000000000000000000000000000000000100000000000000000000000000000000000011000000000000000000000000000000000000',\n",
       " [{'char': 'פ', 'position': (tensor(56), tensor(57))},\n",
       "  {'char': 'פ', 'position': (tensor(93), tensor(94))},\n",
       "  {'char': 'ל', 'position': (tensor(94), tensor(95))}])"
      ]
     },
     "execution_count": 9,
     "metadata": {},
     "output_type": "execute_result"
    }
   ],
   "source": [
    "\n",
    "uncertainty_mask, ambiguous_chars = ht.get_nikud_uncertainty(sample.iloc[0]['text'])\n",
    "sample.iloc[0]['text'], mask_str(sample.iloc[0]['nikud_mask']), mask_str(uncertainty_mask), ambiguous_chars"
   ]
  },
  {
   "cell_type": "code",
   "execution_count": 17,
   "id": "792e78dc",
   "metadata": {},
   "outputs": [],
   "source": [
    "small_df = df.sample(10000)"
   ]
  },
  {
   "cell_type": "code",
   "execution_count": 21,
   "id": "a217bc4c",
   "metadata": {},
   "outputs": [
    {
     "data": {
      "application/vnd.jupyter.widget-view+json": {
       "model_id": "1c06b164797b4737a07cf2fb183b1c81",
       "version_major": 2,
       "version_minor": 0
      },
      "text/plain": [
       "Calculating uncertainty masks:   0%|          | 0/10000 [00:00<?, ?it/s]"
      ]
     },
     "metadata": {},
     "output_type": "display_data"
    }
   ],
   "source": [
    "from tqdm.notebook import tqdm\n",
    "\n",
    "tqdm.pandas(desc=\"Calculating uncertainty masks\")\n",
    "small_df['uncertainty_mask'] = small_df['text'].progress_apply(lambda text: ht.get_nikud_uncertainty(text)[0])\n"
   ]
  },
  {
   "cell_type": "code",
   "execution_count": 22,
   "id": "7e98a30f",
   "metadata": {},
   "outputs": [
    {
     "data": {
      "application/vnd.jupyter.widget-view+json": {
       "model_id": "f9a9c4b9d1c04908b2d6acc1bf7c871b",
       "version_major": 2,
       "version_minor": 0
      },
      "text/plain": [
       "  0%|          | 0/10000 [00:00<?, ?it/s]"
      ]
     },
     "metadata": {},
     "output_type": "display_data"
    },
    {
     "data": {
      "application/vnd.jupyter.widget-view+json": {
       "model_id": "3396ab7cba7840fa87cb8184727af9b7",
       "version_major": 2,
       "version_minor": 0
      },
      "text/plain": [
       "  0%|          | 0/10000 [00:00<?, ?it/s]"
      ]
     },
     "metadata": {},
     "output_type": "display_data"
    }
   ],
   "source": [
    "from tqdm.notebook import tqdm\n",
    "\n",
    "tqdm.pandas()  # Enable tqdm for pandas\n",
    "\n",
    "small_df['nikud_word_mask'] = small_df.progress_apply(\n",
    "    lambda row: ht.convert_token_to_word_mask(row['text'], row['nikud_mask']), axis=1)\n",
    "small_df['uncertainty_word_mask'] = small_df.progress_apply(\n",
    "    lambda row: ht.convert_token_to_word_mask(row['text'], row['uncertainty_mask']), axis=1)"
   ]
  },
  {
   "cell_type": "code",
   "execution_count": 23,
   "id": "fab1ecb4",
   "metadata": {},
   "outputs": [],
   "source": [
    "small_df.to_csv('./datasets/projectbenyehuda/benyehuda_nikud_dataset_with_uncertainty_word_mask.csv', index=False)"
   ]
  },
  {
   "cell_type": "code",
   "execution_count": 13,
   "id": "1d9024bd",
   "metadata": {},
   "outputs": [
    {
     "data": {
      "text/plain": [
       "(24, 24)"
      ]
     },
     "execution_count": 13,
     "metadata": {},
     "output_type": "execute_result"
    }
   ],
   "source": [
    "len(small_df.iloc[0]['uncertainty_word_mask']), len(small_df.iloc[0]['nikud_word_mask'])\n",
    "# convert_token_to_word_mask(small_df.iloc[0]['text'], small_df.iloc[0]['uncertainty_mask'])\n",
    "# convert_token_to_word_mask(small_df.iloc[0]['text'], small_df.iloc[0]['uncertainty_mask'])"
   ]
  },
  {
   "cell_type": "code",
   "execution_count": 24,
   "id": "3960e0ce",
   "metadata": {},
   "outputs": [
    {
     "data": {
      "text/plain": [
       "count    9688.000000\n",
       "mean        0.433942\n",
       "std         0.458009\n",
       "min         0.000000\n",
       "25%         0.000000\n",
       "50%         0.250000\n",
       "75%         1.000000\n",
       "max         1.000000\n",
       "Name: uncertainty_overlap_ratio, dtype: float64"
      ]
     },
     "execution_count": 24,
     "metadata": {},
     "output_type": "execute_result"
    }
   ],
   "source": [
    "\n",
    "# Compute the overlap ratio in a separate step\n",
    "def overlap_ratio(row):\n",
    "    uncertainty_mask = row['uncertainty_word_mask']\n",
    "    nikud_mask = row['nikud_word_mask']\n",
    "    if isinstance(nikud_mask, str):\n",
    "        nikud_mask = ast.literal_eval(nikud_mask)\n",
    "    overlap = sum(1 for u, n in zip(uncertainty_mask, nikud_mask) if u == 1 and n == 1)\n",
    "    total_nikud = sum(nikud_mask)\n",
    "    return overlap / total_nikud if total_nikud > 0 else None\n",
    "\n",
    "small_df['uncertainty_overlap_ratio'] = small_df.apply(overlap_ratio, axis=1)\n",
    "small_df['uncertainty_overlap_ratio'].describe()"
   ]
  },
  {
   "cell_type": "code",
   "execution_count": 25,
   "id": "247c4b78",
   "metadata": {},
   "outputs": [],
   "source": [
    "not_enough_overlap = small_df[small_df['uncertainty_overlap_ratio'] <= 0.5]\n",
    "test = not_enough_overlap.sample(5)"
   ]
  },
  {
   "cell_type": "code",
   "execution_count": 26,
   "id": "8e250988",
   "metadata": {},
   "outputs": [
    {
     "name": "stdout",
     "output_type": "stream",
     "text": [
      "Example 1:\n",
      "Text: רפי אוהב את הצבא (60–62) וחש שייכות, אך הסתייגותו מפיצוץ בתים ערביים (63) הופכת שאט נפש מהמִמסד, ממנהיגיו ומן התומכים בהם\n",
      "Nikud Mask:       000000000000000010000\n",
      "Uncertainty Mask: 000000000000001000000\n",
      "Overlap Ratio: 0.0\n",
      "\n",
      "Example 2:\n",
      "Text: הוא הציע לה לעבור לביתו כ“אֶקוֹנוֹמית”, מנהלת משק-הבית\n",
      "Nikud Mask:       00000100\n",
      "Uncertainty Mask: 00000000\n",
      "Overlap Ratio: 0.0\n",
      "\n",
      "Example 3:\n",
      "Text: [רוּחַ, הוֹ רוּחַ, מָה, בָּאת מֵרָחוֹק?] / כריסטינה רוזטי / עופרה עופר אורן[רוּחַ, הוֹ רוּחַ, מָה, בָּאת מֵרָחוֹק?] מאת כריסטינה רוזטי תורגם מאנגלית מאת עופרה עופר אורן רוּחַ, הוֹ רוּחַ, מָה, בָּאת מֵרָחוֹק\n",
      "Nikud Mask:       101111000000101111000000000101111\n",
      "Uncertainty Mask: 000000001010000000001000000000000\n",
      "Overlap Ratio: 0.0\n",
      "\n",
      "Example 4:\n",
      "Text: שבת אחת לפנות־ערב חזרנו, רוב ילדי הכיתה, ממסיבת יום־הולדת אשר פוליק, מִסיבה כלשהי, לא השתתף בה\n",
      "Nikud Mask:       0000000000010000\n",
      "Uncertainty Mask: 0000000000000000\n",
      "Overlap Ratio: 0.0\n",
      "\n",
      "Example 5:\n",
      "Text: אין זה ‘בלש־חידה’ (puzzle), שכּן מראש ידוע מי אשם\n",
      "Nikud Mask:       000010000\n",
      "Uncertainty Mask: 001000000\n",
      "Overlap Ratio: 0.0\n",
      "\n"
     ]
    }
   ],
   "source": [
    "for i in range(len(test)):\n",
    "    print(f\"Example {i+1}:\")\n",
    "    print(\"Text:\", test.iloc[i]['text'])\n",
    "    print(\"Nikud Mask:      \", mask_str(test.iloc[i]['nikud_word_mask']))\n",
    "    print(\"Uncertainty Mask:\", mask_str(test.iloc[i]['uncertainty_word_mask']))\n",
    "    print(\"Overlap Ratio:\", test.iloc[i]['uncertainty_overlap_ratio'])\n",
    "    print()"
   ]
  },
  {
   "cell_type": "code",
   "execution_count": 80,
   "id": "93a0e113",
   "metadata": {},
   "outputs": [
    {
     "data": {
      "text/plain": [
       "[{'char': 'ק',\n",
       "  'position': (tensor(5), tensor(6)),\n",
       "  'entropy': 1.7002260453349685,\n",
       "  'margin': 0.10639014840126038,\n",
       "  'max_prob': 0.46183285117149353,\n",
       "  'top_candidates': [('ְּ', 0.46183285117149353),\n",
       "   ('ָּ', 0.35544270277023315),\n",
       "   ('ַּ', 0.14430095255374908),\n",
       "   ('ִּ', 0.025373805314302444),\n",
       "   ('', 0.004338645841926336)]},\n",
       " {'char': 'מ',\n",
       "  'position': (tensor(6), tensor(7)),\n",
       "  'entropy': 1.8923375398731663,\n",
       "  'margin': 0.3622446358203888,\n",
       "  'max_prob': 0.5610603094100952,\n",
       "  'top_candidates': [('ָ', 0.5610603094100952),\n",
       "   ('ְ', 0.19881567358970642),\n",
       "   ('ָּ', 0.1026516854763031),\n",
       "   ('ֵ', 0.0913892388343811),\n",
       "   ('ַ', 0.023114318028092384)]},\n",
       " {'char': 'ל',\n",
       "  'position': (tensor(28), tensor(29)),\n",
       "  'entropy': 1.007569559218598,\n",
       "  'margin': 0.2989606559276581,\n",
       "  'max_prob': 0.6457830667495728,\n",
       "  'top_candidates': [('ַ', 0.6457830667495728),\n",
       "   ('ָ', 0.3468224108219147),\n",
       "   ('ְ', 0.0030318722128868103),\n",
       "   ('', 0.0022456843871623278),\n",
       "   ('ַּ', 0.0006822854629717767)]},\n",
       " {'char': 'ח',\n",
       "  'position': (tensor(37), tensor(38)),\n",
       "  'entropy': 1.5076672169038867,\n",
       "  'margin': 0.5502880960702896,\n",
       "  'max_prob': 0.7078871130943298,\n",
       "  'top_candidates': [('ַ', 0.7078871130943298),\n",
       "   ('ָ', 0.15759901702404022),\n",
       "   ('ֲ', 0.04551473259925842),\n",
       "   ('ִ', 0.03282444179058075),\n",
       "   ('', 0.030110660940408707)]},\n",
       " {'char': 'מ',\n",
       "  'position': (tensor(38), tensor(39)),\n",
       "  'entropy': 1.632634188569759,\n",
       "  'margin': 0.36997297406196594,\n",
       "  'max_prob': 0.6150648593902588,\n",
       "  'top_candidates': [('ְ', 0.6150648593902588),\n",
       "   ('ָ', 0.24509188532829285),\n",
       "   ('ַ', 0.07003997266292572),\n",
       "   ('ֵ', 0.029337119311094284),\n",
       "   ('', 0.016142427921295166)]},\n",
       " {'char': 'ס',\n",
       "  'position': (tensor(39), tensor(40)),\n",
       "  'entropy': 2.130700148660023,\n",
       "  'margin': 0.43633222579956055,\n",
       "  'max_prob': 0.5839293003082275,\n",
       "  'top_candidates': [('ָ', 0.5839293003082275),\n",
       "   ('ַ', 0.147597074508667),\n",
       "   ('ָּ', 0.09151768684387207),\n",
       "   ('ֶ', 0.061459608376026154),\n",
       "   ('', 0.04276083782315254)]},\n",
       " {'char': 'ר',\n",
       "  'position': (tensor(53), tensor(54)),\n",
       "  'entropy': 1.0799215926200814,\n",
       "  'margin': 0.3467923700809479,\n",
       "  'max_prob': 0.6613171100616455,\n",
       "  'top_candidates': [('ְ', 0.6613171100616455),\n",
       "   ('ָ', 0.31452473998069763),\n",
       "   ('ַ', 0.019446339458227158),\n",
       "   ('', 0.0018335009226575494),\n",
       "   ('ֵ', 0.0009912493405863643)]},\n",
       " {'char': 'פ',\n",
       "  'position': (tensor(79), tensor(80)),\n",
       "  'entropy': 1.8382108123014451,\n",
       "  'margin': 0.4528660178184509,\n",
       "  'max_prob': 0.5897095203399658,\n",
       "  'top_candidates': [('ַ', 0.5897095203399658),\n",
       "   ('ָ', 0.1368435025215149),\n",
       "   ('ָּ', 0.11863952875137329),\n",
       "   ('ַּ', 0.10241103172302246),\n",
       "   ('', 0.04259796440601349)]},\n",
       " {'char': 'ט',\n",
       "  'position': (tensor(81), tensor(82)),\n",
       "  'entropy': 1.4407028031105016,\n",
       "  'margin': 0.575647696852684,\n",
       "  'max_prob': 0.7184517979621887,\n",
       "  'top_candidates': [('ְ', 0.7184517979621887),\n",
       "   ('ָ', 0.1428041011095047),\n",
       "   ('', 0.07029750943183899),\n",
       "   ('ַ', 0.024626147001981735),\n",
       "   ('ֶ', 0.016443882137537003)]},\n",
       " {'char': 'מ',\n",
       "  'position': (tensor(82), tensor(83)),\n",
       "  'entropy': 1.2745754535734215,\n",
       "  'margin': 0.6746911481022835,\n",
       "  'max_prob': 0.763735830783844,\n",
       "  'top_candidates': [('ָ', 0.763735830783844),\n",
       "   ('ַ', 0.08904468268156052),\n",
       "   ('ֶ', 0.08135971426963806),\n",
       "   ('', 0.04352687671780586),\n",
       "   ('ָּ', 0.0118925292044878)]},\n",
       " {'char': 'מ',\n",
       "  'position': (tensor(105), tensor(106)),\n",
       "  'entropy': 1.0701131175169303,\n",
       "  'margin': 0.6097042560577393,\n",
       "  'max_prob': 0.7757613062858582,\n",
       "  'top_candidates': [('ַּ', 0.7757613062858582),\n",
       "   ('ַ', 0.1660570502281189),\n",
       "   ('ָּ', 0.039891280233860016),\n",
       "   ('ָ', 0.006005226634442806),\n",
       "   ('', 0.0023201468866318464)]}]"
      ]
     },
     "execution_count": 80,
     "metadata": {},
     "output_type": "execute_result"
    }
   ],
   "source": [
    "_, ambiguous = ht.get_nikud_uncertainty(not_enough_overlap.iloc[0]['text'])\n",
    "ambiguous"
   ]
  }
 ],
 "metadata": {
  "kernelspec": {
   "display_name": "nikud-bert",
   "language": "python",
   "name": "python3"
  },
  "language_info": {
   "codemirror_mode": {
    "name": "ipython",
    "version": 3
   },
   "file_extension": ".py",
   "mimetype": "text/x-python",
   "name": "python",
   "nbconvert_exporter": "python",
   "pygments_lexer": "ipython3",
   "version": "3.10.18"
  }
 },
 "nbformat": 4,
 "nbformat_minor": 5
}

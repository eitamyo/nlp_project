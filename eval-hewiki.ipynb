{
 "cells": [
  {
   "cell_type": "code",
   "execution_count": 2,
   "id": "ad22061e",
   "metadata": {},
   "outputs": [],
   "source": [
    "import pandas as pd\n",
    "import utils.hebrew_tokenizer as ht\n",
    "\n",
    "# df = pd.read_csv('./datasets/hewiki/hebrew_nikud_dataset_filtered.csv')\n",
    "df = pd.read_csv('./datasets/hewiki/hebrew_nikud_dataset_with_uncertainty.csv')"
   ]
  },
  {
   "cell_type": "code",
   "execution_count": 3,
   "id": "4c480027",
   "metadata": {},
   "outputs": [
    {
     "data": {
      "text/html": [
       "<div>\n",
       "<style scoped>\n",
       "    .dataframe tbody tr th:only-of-type {\n",
       "        vertical-align: middle;\n",
       "    }\n",
       "\n",
       "    .dataframe tbody tr th {\n",
       "        vertical-align: top;\n",
       "    }\n",
       "\n",
       "    .dataframe thead th {\n",
       "        text-align: right;\n",
       "    }\n",
       "</style>\n",
       "<table border=\"1\" class=\"dataframe\">\n",
       "  <thead>\n",
       "    <tr style=\"text-align: right;\">\n",
       "      <th></th>\n",
       "      <th>text</th>\n",
       "      <th>nikud_mask</th>\n",
       "      <th>article_title</th>\n",
       "      <th>article_length</th>\n",
       "      <th>text_length</th>\n",
       "      <th>nikud_mask_length</th>\n",
       "      <th>uncertainty_mask</th>\n",
       "    </tr>\n",
       "  </thead>\n",
       "  <tbody>\n",
       "    <tr>\n",
       "      <th>0</th>\n",
       "      <td>תחום מחקר נוסף הוא גודל, אשר מוביל לעוצמות ולת...</td>\n",
       "      <td>[0, 0, 0, 0, 0, 0, 0, 0, 0, 0, 0, 0, 0, 0, 0, ...</td>\n",
       "      <td>מתמטיקה</td>\n",
       "      <td>3577</td>\n",
       "      <td>141</td>\n",
       "      <td>141</td>\n",
       "      <td>[0, 0, 0, 0, 0, 0, 0, 0, 0, 0, 0, 0, 0, 0, 0, ...</td>\n",
       "    </tr>\n",
       "    <tr>\n",
       "      <th>1</th>\n",
       "      <td>ריגורוזיוּת היא מרכיב יסודי בכל הוכחה מתמטית</td>\n",
       "      <td>[0, 0, 0, 0, 0, 0, 0, 0, 0, 1, 0, 0, 0, 0, 0, ...</td>\n",
       "      <td>מתמטיקה</td>\n",
       "      <td>3577</td>\n",
       "      <td>44</td>\n",
       "      <td>45</td>\n",
       "      <td>[0, 0, 0, 0, 0, 0, 0, 1, 0, 0, 0, 0, 0, 0, 0, ...</td>\n",
       "    </tr>\n",
       "    <tr>\n",
       "      <th>2</th>\n",
       "      <td>חישובים בהיקף גדול קשים לאימות, ולכן יש הטועני...</td>\n",
       "      <td>[0, 0, 0, 0, 0, 0, 0, 0, 0, 0, 0, 0, 0, 0, 0, ...</td>\n",
       "      <td>מתמטיקה</td>\n",
       "      <td>3577</td>\n",
       "      <td>85</td>\n",
       "      <td>86</td>\n",
       "      <td>[0, 0, 0, 0, 0, 0, 0, 0, 0, 0, 0, 0, 0, 0, 0, ...</td>\n",
       "    </tr>\n",
       "    <tr>\n",
       "      <th>3</th>\n",
       "      <td>תורת האֶתֶר גרסה שיש חומר הממלא את כל המרחב, ו...</td>\n",
       "      <td>[0, 0, 0, 0, 0, 0, 0, 1, 1, 0, 0, 0, 0, 0, 0, ...</td>\n",
       "      <td>אקסיומה</td>\n",
       "      <td>505</td>\n",
       "      <td>70</td>\n",
       "      <td>70</td>\n",
       "      <td>[0, 0, 0, 0, 0, 0, 0, 0, 0, 0, 0, 0, 0, 0, 0, ...</td>\n",
       "    </tr>\n",
       "    <tr>\n",
       "      <th>4</th>\n",
       "      <td>בניסוי מייקלסון-מורלי נמדדה מהירות הקפת כדור ה...</td>\n",
       "      <td>[0, 0, 0, 0, 0, 0, 0, 0, 0, 0, 0, 0, 0, 0, 0, ...</td>\n",
       "      <td>אקסיומה</td>\n",
       "      <td>505</td>\n",
       "      <td>151</td>\n",
       "      <td>151</td>\n",
       "      <td>[0, 1, 0, 0, 0, 0, 0, 0, 1, 0, 0, 0, 0, 0, 0, ...</td>\n",
       "    </tr>\n",
       "  </tbody>\n",
       "</table>\n",
       "</div>"
      ],
      "text/plain": [
       "                                                text  \\\n",
       "0  תחום מחקר נוסף הוא גודל, אשר מוביל לעוצמות ולת...   \n",
       "1       ריגורוזיוּת היא מרכיב יסודי בכל הוכחה מתמטית   \n",
       "2  חישובים בהיקף גדול קשים לאימות, ולכן יש הטועני...   \n",
       "3  תורת האֶתֶר גרסה שיש חומר הממלא את כל המרחב, ו...   \n",
       "4  בניסוי מייקלסון-מורלי נמדדה מהירות הקפת כדור ה...   \n",
       "\n",
       "                                          nikud_mask article_title  \\\n",
       "0  [0, 0, 0, 0, 0, 0, 0, 0, 0, 0, 0, 0, 0, 0, 0, ...       מתמטיקה   \n",
       "1  [0, 0, 0, 0, 0, 0, 0, 0, 0, 1, 0, 0, 0, 0, 0, ...       מתמטיקה   \n",
       "2  [0, 0, 0, 0, 0, 0, 0, 0, 0, 0, 0, 0, 0, 0, 0, ...       מתמטיקה   \n",
       "3  [0, 0, 0, 0, 0, 0, 0, 1, 1, 0, 0, 0, 0, 0, 0, ...       אקסיומה   \n",
       "4  [0, 0, 0, 0, 0, 0, 0, 0, 0, 0, 0, 0, 0, 0, 0, ...       אקסיומה   \n",
       "\n",
       "   article_length  text_length  nikud_mask_length  \\\n",
       "0            3577          141                141   \n",
       "1            3577           44                 45   \n",
       "2            3577           85                 86   \n",
       "3             505           70                 70   \n",
       "4             505          151                151   \n",
       "\n",
       "                                    uncertainty_mask  \n",
       "0  [0, 0, 0, 0, 0, 0, 0, 0, 0, 0, 0, 0, 0, 0, 0, ...  \n",
       "1  [0, 0, 0, 0, 0, 0, 0, 1, 0, 0, 0, 0, 0, 0, 0, ...  \n",
       "2  [0, 0, 0, 0, 0, 0, 0, 0, 0, 0, 0, 0, 0, 0, 0, ...  \n",
       "3  [0, 0, 0, 0, 0, 0, 0, 0, 0, 0, 0, 0, 0, 0, 0, ...  \n",
       "4  [0, 1, 0, 0, 0, 0, 0, 0, 1, 0, 0, 0, 0, 0, 0, ...  "
      ]
     },
     "execution_count": 3,
     "metadata": {},
     "output_type": "execute_result"
    }
   ],
   "source": [
    "df.head()"
   ]
  },
  {
   "cell_type": "code",
   "execution_count": 4,
   "id": "69a4f965",
   "metadata": {},
   "outputs": [],
   "source": [
    "import ast\n",
    "\n",
    "def mask_str(mask):\n",
    "    if isinstance(mask, str):\n",
    "        mask = ast.literal_eval(mask)\n",
    "    return \"\".join([str(x) for x in mask])"
   ]
  },
  {
   "cell_type": "code",
   "execution_count": 4,
   "id": "d007d6ef",
   "metadata": {},
   "outputs": [
    {
     "data": {
      "application/vnd.jupyter.widget-view+json": {
       "model_id": "4724d5b43b204455a1166f4f15afd8e3",
       "version_major": 2,
       "version_minor": 0
      },
      "text/plain": [
       "Checking mask lengths:   0%|          | 0/81995 [00:00<?, ?it/s]"
      ]
     },
     "metadata": {},
     "output_type": "display_data"
    },
    {
     "name": "stderr",
     "output_type": "stream",
     "text": [
      "Token indices sequence length is longer than the specified maximum sequence length for this model (2611 > 2048). Running this sequence through the model will result in indexing errors\n"
     ]
    },
    {
     "data": {
      "text/plain": [
       "(788, 7)"
      ]
     },
     "execution_count": 4,
     "metadata": {},
     "output_type": "execute_result"
    }
   ],
   "source": [
    "from tqdm.notebook import tqdm\n",
    "\n",
    "mask_lengths = []\n",
    "for _, row in tqdm(df.iterrows(), total=len(df), desc=\"Checking mask lengths\"):\n",
    "    mask_lengths.append(len(ht.get_nikud_mask(row['text'])[1]))\n",
    "\n",
    "mismatch_rows = df[[mask_len != row['nikud_mask_length'] for mask_len, (_, row) in zip(mask_lengths, df.iterrows())]]\n",
    "mismatch_rows.shape"
   ]
  },
  {
   "cell_type": "code",
   "execution_count": 5,
   "id": "87ecf682",
   "metadata": {},
   "outputs": [
    {
     "name": "stderr",
     "output_type": "stream",
     "text": [
      "C:\\Users\\eitam\\AppData\\Local\\Temp\\ipykernel_3812\\2918813076.py:1: SettingWithCopyWarning: \n",
      "A value is trying to be set on a copy of a slice from a DataFrame.\n",
      "Try using .loc[row_indexer,col_indexer] = value instead\n",
      "\n",
      "See the caveats in the documentation: https://pandas.pydata.org/pandas-docs/stable/user_guide/indexing.html#returning-a-view-versus-a-copy\n",
      "  mismatch_rows['diff'] = [len(ht.get_nikud_mask(row['text'])[1]) - row['nikud_mask_length'] for _, row in mismatch_rows.iterrows()]\n"
     ]
    },
    {
     "data": {
      "text/plain": [
       "diff\n",
       "-3      1\n",
       "-2     59\n",
       "-1    728\n",
       "dtype: int64"
      ]
     },
     "execution_count": 5,
     "metadata": {},
     "output_type": "execute_result"
    }
   ],
   "source": [
    "mismatch_rows['diff'] = [len(ht.get_nikud_mask(row['text'])[1]) - row['nikud_mask_length'] for _, row in mismatch_rows.iterrows()]\n",
    "grouped = mismatch_rows.groupby('diff')\n",
    "grouped.size()"
   ]
  },
  {
   "cell_type": "code",
   "execution_count": 6,
   "id": "8881d602",
   "metadata": {},
   "outputs": [
    {
     "name": "stdout",
     "output_type": "stream",
     "text": [
      "גַ'לְג'וּלְיָה (בערבית: جلجولية) היא מועצה מקומית ערבית-מוסלמית במחוז המרכז בישראל, 3 ק\"מ מזרחית לכפר סבא\n",
      "[CLS] ג'ל ג'ו ל י ה   ( ב ע ר ב י ת :   [UNK] )   ה י א   מ ו ע צ ה   מ ק ו מ י ת   ע ר ב י ת - מ ו ס ל מ י ת   ב מ ח ו ז   ה מ ר כ ז   ב י ש ר א ל,   3   ק \" מ   מ ז ר ח י ת   ל כ פ ר   ס ב א [SEP]\n",
      "010100111000000000000000000000000000000000000000000000000000000000000000000000000000000000000000\n",
      "0010100111000000000000000000000000000000000000000000000000000000000000000000000000000000000000000\n"
     ]
    }
   ],
   "source": [
    "x = grouped.get_group(-1).iloc[10]\n",
    "print(x['text'])\n",
    "input_ids, nikud_mask = ht.get_nikud_mask(x['text'])\n",
    "print(ht.tokenizer.decode(input_ids))\n",
    "print(mask_str(nikud_mask))\n",
    "print(mask_str(x['nikud_mask']))"
   ]
  },
  {
   "cell_type": "code",
   "execution_count": 7,
   "id": "011aec8a",
   "metadata": {},
   "outputs": [
    {
     "data": {
      "text/plain": [
       "text                 פרנטישק לַאנגֶר (בצ'כית: František Langer; 3 ב...\n",
       "nikud_mask           [0, 0, 0, 0, 0, 0, 0, 0, 0, 1, 0, 0, 1, 0, 0, ...\n",
       "article_title                                            פרנטישק לאנגר\n",
       "article_length                                                     537\n",
       "text_length                                                        134\n",
       "nikud_mask_length                                                  134\n",
       "uncertainty_mask     [0, 1, 0, 0, 0, 0, 1, 0, 0, 1, 1, 0, 1, 0, 0, ...\n",
       "Name: 45706, dtype: object"
      ]
     },
     "execution_count": 7,
     "metadata": {},
     "output_type": "execute_result"
    }
   ],
   "source": [
    "sample = df.sample(1)\n",
    "sample.iloc[0]"
   ]
  },
  {
   "cell_type": "code",
   "execution_count": 9,
   "id": "a14f1f07",
   "metadata": {},
   "outputs": [
    {
     "name": "stdout",
     "output_type": "stream",
     "text": [
      "[CLS] נ ו ל ד   ב ר ו ב ה   ( r o u b a i x )   ש ע ל   ג ב ו ל   ב ל ג י ה   ל מ ש פ ח ה   מ ו ז י ק ל י ת [SEP] 53 53\n"
     ]
    }
   ],
   "source": [
    "input_ids, nikud_mask = ht.get_nikud_mask(sample.iloc[0]['text'])\n",
    "print(ht.tokenizer.decode(input_ids), len(mask_str(nikud_mask)), len(mask_str(sample.iloc[0]['nikud_mask'])))"
   ]
  },
  {
   "cell_type": "code",
   "execution_count": 10,
   "id": "fd19b5d2",
   "metadata": {},
   "outputs": [
    {
     "data": {
      "text/plain": [
       "('נולד ברוּבֶּה (Roubaix) שעל גבול בלגיה למשפחה מוזיקלית',\n",
       " '00000000110000000000000000000000000000000000000000000',\n",
       " '00000000110000000000000000000000000000000000000000000',\n",
       " [{'char': 'ו', 'position': (tensor(7), tensor(8))},\n",
       "  {'char': 'ב', 'position': (tensor(9), tensor(10))}])"
      ]
     },
     "execution_count": 10,
     "metadata": {},
     "output_type": "execute_result"
    }
   ],
   "source": [
    "\n",
    "uncertainty_mask, ambiguous_chars = ht.get_nikud_uncertainty(sample.iloc[0]['text'])\n",
    "sample.iloc[0]['text'], mask_str(sample.iloc[0]['nikud_mask']), mask_str(uncertainty_mask), ambiguous_chars"
   ]
  },
  {
   "cell_type": "code",
   "execution_count": 75,
   "id": "792e78dc",
   "metadata": {},
   "outputs": [],
   "source": [
    "small_df = df.sample(1000)"
   ]
  },
  {
   "cell_type": "code",
   "execution_count": null,
   "id": "a217bc4c",
   "metadata": {},
   "outputs": [
    {
     "data": {
      "application/vnd.jupyter.widget-view+json": {
       "model_id": "c996932257434904b73ef9de0c9d74a2",
       "version_major": 2,
       "version_minor": 0
      },
      "text/plain": [
       "Calculating uncertainty masks:   0%|          | 0/1000 [00:00<?, ?it/s]"
      ]
     },
     "metadata": {},
     "output_type": "display_data"
    }
   ],
   "source": [
    "from tqdm.notebook import tqdm\n",
    "\n",
    "tqdm.pandas(desc=\"Calculating uncertainty masks\")\n",
    "small_df['uncertainty_mask'] = small_df['text'].progress_apply(lambda text: ht.get_nikud_uncertainty(text)[0])\n"
   ]
  },
  {
   "cell_type": "code",
   "execution_count": 6,
   "id": "576fd5b8",
   "metadata": {},
   "outputs": [
    {
     "name": "stderr",
     "output_type": "stream",
     "text": [
      "Token indices sequence length is longer than the specified maximum sequence length for this model (2609 > 2048). Running this sequence through the model will result in indexing errors\n"
     ]
    }
   ],
   "source": [
    "def column_filter(row):\n",
    "    text = row['text']\n",
    "    mask = ast.literal_eval(row['nikud_mask'])\n",
    "    return ht.has_1s_run(text, mask, min_run=1, max_run=3)\n",
    "\n",
    "filtered_df = df[df.apply(column_filter, axis=1)]"
   ]
  },
  {
   "cell_type": "code",
   "execution_count": 7,
   "id": "d072619d",
   "metadata": {},
   "outputs": [
    {
     "data": {
      "text/html": [
       "<div>\n",
       "<style scoped>\n",
       "    .dataframe tbody tr th:only-of-type {\n",
       "        vertical-align: middle;\n",
       "    }\n",
       "\n",
       "    .dataframe tbody tr th {\n",
       "        vertical-align: top;\n",
       "    }\n",
       "\n",
       "    .dataframe thead th {\n",
       "        text-align: right;\n",
       "    }\n",
       "</style>\n",
       "<table border=\"1\" class=\"dataframe\">\n",
       "  <thead>\n",
       "    <tr style=\"text-align: right;\">\n",
       "      <th></th>\n",
       "      <th>text</th>\n",
       "      <th>nikud_mask</th>\n",
       "      <th>article_title</th>\n",
       "      <th>article_length</th>\n",
       "      <th>text_length</th>\n",
       "      <th>nikud_mask_length</th>\n",
       "      <th>uncertainty_mask</th>\n",
       "    </tr>\n",
       "  </thead>\n",
       "  <tbody>\n",
       "    <tr>\n",
       "      <th>0</th>\n",
       "      <td>תחום מחקר נוסף הוא גודל, אשר מוביל לעוצמות ולת...</td>\n",
       "      <td>[0, 0, 0, 0, 0, 0, 0, 0, 0, 0, 0, 0, 0, 0, 0, ...</td>\n",
       "      <td>מתמטיקה</td>\n",
       "      <td>3577</td>\n",
       "      <td>141</td>\n",
       "      <td>141</td>\n",
       "      <td>[0, 0, 0, 0, 0, 0, 0, 0, 0, 0, 0, 0, 0, 0, 0, ...</td>\n",
       "    </tr>\n",
       "    <tr>\n",
       "      <th>1</th>\n",
       "      <td>ריגורוזיוּת היא מרכיב יסודי בכל הוכחה מתמטית</td>\n",
       "      <td>[0, 0, 0, 0, 0, 0, 0, 0, 0, 1, 0, 0, 0, 0, 0, ...</td>\n",
       "      <td>מתמטיקה</td>\n",
       "      <td>3577</td>\n",
       "      <td>44</td>\n",
       "      <td>45</td>\n",
       "      <td>[0, 0, 0, 0, 0, 0, 0, 1, 0, 0, 0, 0, 0, 0, 0, ...</td>\n",
       "    </tr>\n",
       "    <tr>\n",
       "      <th>2</th>\n",
       "      <td>חישובים בהיקף גדול קשים לאימות, ולכן יש הטועני...</td>\n",
       "      <td>[0, 0, 0, 0, 0, 0, 0, 0, 0, 0, 0, 0, 0, 0, 0, ...</td>\n",
       "      <td>מתמטיקה</td>\n",
       "      <td>3577</td>\n",
       "      <td>85</td>\n",
       "      <td>86</td>\n",
       "      <td>[0, 0, 0, 0, 0, 0, 0, 0, 0, 0, 0, 0, 0, 0, 0, ...</td>\n",
       "    </tr>\n",
       "    <tr>\n",
       "      <th>3</th>\n",
       "      <td>תורת האֶתֶר גרסה שיש חומר הממלא את כל המרחב, ו...</td>\n",
       "      <td>[0, 0, 0, 0, 0, 0, 0, 1, 1, 0, 0, 0, 0, 0, 0, ...</td>\n",
       "      <td>אקסיומה</td>\n",
       "      <td>505</td>\n",
       "      <td>70</td>\n",
       "      <td>70</td>\n",
       "      <td>[0, 0, 0, 0, 0, 0, 0, 0, 0, 0, 0, 0, 0, 0, 0, ...</td>\n",
       "    </tr>\n",
       "    <tr>\n",
       "      <th>4</th>\n",
       "      <td>בניסוי מייקלסון-מורלי נמדדה מהירות הקפת כדור ה...</td>\n",
       "      <td>[0, 0, 0, 0, 0, 0, 0, 0, 0, 0, 0, 0, 0, 0, 0, ...</td>\n",
       "      <td>אקסיומה</td>\n",
       "      <td>505</td>\n",
       "      <td>151</td>\n",
       "      <td>151</td>\n",
       "      <td>[0, 1, 0, 0, 0, 0, 0, 0, 1, 0, 0, 0, 0, 0, 0, ...</td>\n",
       "    </tr>\n",
       "  </tbody>\n",
       "</table>\n",
       "</div>"
      ],
      "text/plain": [
       "                                                text  \\\n",
       "0  תחום מחקר נוסף הוא גודל, אשר מוביל לעוצמות ולת...   \n",
       "1       ריגורוזיוּת היא מרכיב יסודי בכל הוכחה מתמטית   \n",
       "2  חישובים בהיקף גדול קשים לאימות, ולכן יש הטועני...   \n",
       "3  תורת האֶתֶר גרסה שיש חומר הממלא את כל המרחב, ו...   \n",
       "4  בניסוי מייקלסון-מורלי נמדדה מהירות הקפת כדור ה...   \n",
       "\n",
       "                                          nikud_mask article_title  \\\n",
       "0  [0, 0, 0, 0, 0, 0, 0, 0, 0, 0, 0, 0, 0, 0, 0, ...       מתמטיקה   \n",
       "1  [0, 0, 0, 0, 0, 0, 0, 0, 0, 1, 0, 0, 0, 0, 0, ...       מתמטיקה   \n",
       "2  [0, 0, 0, 0, 0, 0, 0, 0, 0, 0, 0, 0, 0, 0, 0, ...       מתמטיקה   \n",
       "3  [0, 0, 0, 0, 0, 0, 0, 1, 1, 0, 0, 0, 0, 0, 0, ...       אקסיומה   \n",
       "4  [0, 0, 0, 0, 0, 0, 0, 0, 0, 0, 0, 0, 0, 0, 0, ...       אקסיומה   \n",
       "\n",
       "   article_length  text_length  nikud_mask_length  \\\n",
       "0            3577          141                141   \n",
       "1            3577           44                 45   \n",
       "2            3577           85                 86   \n",
       "3             505           70                 70   \n",
       "4             505          151                151   \n",
       "\n",
       "                                    uncertainty_mask  \n",
       "0  [0, 0, 0, 0, 0, 0, 0, 0, 0, 0, 0, 0, 0, 0, 0, ...  \n",
       "1  [0, 0, 0, 0, 0, 0, 0, 1, 0, 0, 0, 0, 0, 0, 0, ...  \n",
       "2  [0, 0, 0, 0, 0, 0, 0, 0, 0, 0, 0, 0, 0, 0, 0, ...  \n",
       "3  [0, 0, 0, 0, 0, 0, 0, 0, 0, 0, 0, 0, 0, 0, 0, ...  \n",
       "4  [0, 1, 0, 0, 0, 0, 0, 0, 1, 0, 0, 0, 0, 0, 0, ...  "
      ]
     },
     "execution_count": 7,
     "metadata": {},
     "output_type": "execute_result"
    }
   ],
   "source": [
    "filtered_df.head()"
   ]
  },
  {
   "cell_type": "code",
   "execution_count": 8,
   "id": "7e98a30f",
   "metadata": {},
   "outputs": [
    {
     "data": {
      "application/vnd.jupyter.widget-view+json": {
       "model_id": "954489512ac44a1e8b60df257b3b6e75",
       "version_major": 2,
       "version_minor": 0
      },
      "text/plain": [
       "  0%|          | 0/65533 [00:00<?, ?it/s]"
      ]
     },
     "metadata": {},
     "output_type": "display_data"
    },
    {
     "name": "stderr",
     "output_type": "stream",
     "text": [
      "C:\\Users\\eitam\\AppData\\Local\\Temp\\ipykernel_2112\\2175315501.py:5: SettingWithCopyWarning: \n",
      "A value is trying to be set on a copy of a slice from a DataFrame.\n",
      "Try using .loc[row_indexer,col_indexer] = value instead\n",
      "\n",
      "See the caveats in the documentation: https://pandas.pydata.org/pandas-docs/stable/user_guide/indexing.html#returning-a-view-versus-a-copy\n",
      "  filtered_df['nikud_word_mask'] = filtered_df.progress_apply(\n"
     ]
    },
    {
     "data": {
      "application/vnd.jupyter.widget-view+json": {
       "model_id": "e757b3bea77545e59f843ff8447f3db3",
       "version_major": 2,
       "version_minor": 0
      },
      "text/plain": [
       "  0%|          | 0/65533 [00:00<?, ?it/s]"
      ]
     },
     "metadata": {},
     "output_type": "display_data"
    },
    {
     "name": "stderr",
     "output_type": "stream",
     "text": [
      "C:\\Users\\eitam\\AppData\\Local\\Temp\\ipykernel_2112\\2175315501.py:7: SettingWithCopyWarning: \n",
      "A value is trying to be set on a copy of a slice from a DataFrame.\n",
      "Try using .loc[row_indexer,col_indexer] = value instead\n",
      "\n",
      "See the caveats in the documentation: https://pandas.pydata.org/pandas-docs/stable/user_guide/indexing.html#returning-a-view-versus-a-copy\n",
      "  filtered_df['uncertainty_word_mask'] = filtered_df.progress_apply(\n"
     ]
    }
   ],
   "source": [
    "from tqdm.notebook import tqdm\n",
    "\n",
    "tqdm.pandas()  # Enable tqdm for pandas\n",
    "\n",
    "filtered_df['nikud_word_mask'] = filtered_df.progress_apply(\n",
    "    lambda row: ht.convert_token_to_word_mask(row['text'], row['nikud_mask']), axis=1)\n",
    "filtered_df['uncertainty_word_mask'] = filtered_df.progress_apply(\n",
    "    lambda row: ht.convert_token_to_word_mask(row['text'], row['uncertainty_mask']), axis=1)"
   ]
  },
  {
   "cell_type": "code",
   "execution_count": 9,
   "id": "5d5c660a",
   "metadata": {},
   "outputs": [],
   "source": [
    "filtered_df.to_csv('./datasets/hewiki/hebrew_nikud_dataset_filtered_with_word_masks.csv', index=False)"
   ]
  },
  {
   "cell_type": "code",
   "execution_count": 13,
   "id": "1d9024bd",
   "metadata": {},
   "outputs": [
    {
     "data": {
      "text/plain": [
       "(23, 23)"
      ]
     },
     "execution_count": 13,
     "metadata": {},
     "output_type": "execute_result"
    }
   ],
   "source": [
    "len(filtered_df.iloc[0]['uncertainty_word_mask']), len(filtered_df.iloc[0]['nikud_word_mask'])\n",
    "# convert_token_to_word_mask(filtered_df.iloc[0]['text'], filtered_df.iloc[0]['uncertainty_mask'])\n",
    "# convert_token_to_word_mask(filtered_df.iloc[0]['text'], filtered_df.iloc[0]['uncertainty_mask'])"
   ]
  },
  {
   "cell_type": "code",
   "execution_count": null,
   "id": "5b439141",
   "metadata": {},
   "outputs": [],
   "source": []
  },
  {
   "cell_type": "code",
   "execution_count": null,
   "id": "3960e0ce",
   "metadata": {},
   "outputs": [
    {
     "name": "stderr",
     "output_type": "stream",
     "text": [
      "C:\\Users\\eitam\\AppData\\Local\\Temp\\ipykernel_3812\\3302538117.py:11: SettingWithCopyWarning: \n",
      "A value is trying to be set on a copy of a slice from a DataFrame.\n",
      "Try using .loc[row_indexer,col_indexer] = value instead\n",
      "\n",
      "See the caveats in the documentation: https://pandas.pydata.org/pandas-docs/stable/user_guide/indexing.html#returning-a-view-versus-a-copy\n",
      "  filtered_df['uncertainty_overlap_ratio'] = filtered_df.apply(overlap_ratio, axis=1)\n"
     ]
    },
    {
     "data": {
      "text/plain": [
       "count    61301.000000\n",
       "mean         0.635086\n",
       "std          0.468374\n",
       "min          0.000000\n",
       "25%          0.000000\n",
       "50%          1.000000\n",
       "75%          1.000000\n",
       "max          1.000000\n",
       "Name: uncertainty_overlap_ratio, dtype: float64"
      ]
     },
     "execution_count": 14,
     "metadata": {},
     "output_type": "execute_result"
    }
   ],
   "source": [
    "\n",
    "# Compute the overlap ratio in a separate step\n",
    "def overlap_ratio(row):\n",
    "    uncertainty_mask = row['uncertainty_word_mask']\n",
    "    nikud_mask = row['nikud_word_mask']\n",
    "    if isinstance(nikud_mask, str):\n",
    "        nikud_mask = ast.literal_eval(nikud_mask)\n",
    "    overlap = sum(1 for u, n in zip(uncertainty_mask, nikud_mask) if u == 1 and n == 1)\n",
    "    total_nikud = sum(nikud_mask)\n",
    "    return overlap / total_nikud if total_nikud > 0 else None\n",
    "\n",
    "def opposite_overlap_ratio(row):\n",
    "    uncertainty_mask = row['uncertainty_word_mask']\n",
    "    if isinstance(uncertainty_mask, str):\n",
    "        uncertainty_mask = ast.literal_eval(uncertainty_mask)\n",
    "    nikud_mask = row['nikud_word_mask']\n",
    "    if isinstance(nikud_mask, str):\n",
    "        nikud_mask = ast.literal_eval(nikud_mask)\n",
    "    overlap = sum(1 for u, n in zip(uncertainty_mask, nikud_mask) if u == 1 and n == 1)\n",
    "    total_uncertainty = sum(uncertainty_mask)\n",
    "    return overlap / total_uncertainty if total_uncertainty > 0 else None"
   ]
  },
  {
   "cell_type": "code",
   "execution_count": null,
   "id": "ce4fbdf6",
   "metadata": {},
   "outputs": [],
   "source": [
    "filtered_df['uncertainty_overlap_ratio'] = filtered_df.apply(overlap_ratio, axis=1)\n",
    "filtered_df['uncertainty_overlap_ratio'].describe()"
   ]
  },
  {
   "cell_type": "code",
   "execution_count": null,
   "id": "0d1d88d5",
   "metadata": {},
   "outputs": [],
   "source": [
    "filtered_df['uncertainty_overlap_ratio_2'] = filtered_df.apply(opposite_overlap_ratio, axis=1)\n",
    "filtered_df['uncertainty_overlap_ratio_2'].describe()"
   ]
  },
  {
   "cell_type": "code",
   "execution_count": 15,
   "id": "247c4b78",
   "metadata": {},
   "outputs": [],
   "source": [
    "not_enough_overlap = filtered_df[filtered_df['uncertainty_overlap_ratio'] <= 0.5]\n",
    "test = not_enough_overlap.sample(5)"
   ]
  },
  {
   "cell_type": "code",
   "execution_count": 17,
   "id": "8e250988",
   "metadata": {},
   "outputs": [
    {
     "name": "stdout",
     "output_type": "stream",
     "text": [
      "Example 1:\n",
      "Text: ברבדוס נחשבה לאומה הבריטית ביותר בקֶרֶב חבר העמים הקריבי הבריטי, והיוותה את התממשות השליטה הבלתי מעורערת שיושמה על ידי הבריטים משנת 1625 ועד למתן העצמאות בשנת 1966\n",
      "Nikud Mask:       000001000000000000000000000\n",
      "Uncertainty Mask: 100000001000000000000000000\n",
      "Overlap Ratio: 0.0\n",
      "\n",
      "Example 2:\n",
      "Text: 6 הקלטות הופצו בסדרת המשך זו, וכל אחת הכילה שלושה ספרים מ\"סדרת הרַכבות\"\n",
      "Nikud Mask:       0000000000001\n",
      "Uncertainty Mask: 0000000000000\n",
      "Overlap Ratio: 0.0\n",
      "\n",
      "Example 3:\n",
      "Text: משך תקופה פעל כמעצב בצפון איטליה בשיתוף פעולה עם חברה (CALOIׂ) שצברה ניסיון ומוניטין בריהוט לבתי אופרה גדולים באירופה\n",
      "Nikud Mask:       0000000000100000000\n",
      "Uncertainty Mask: 0000000000000000000\n",
      "Overlap Ratio: 0.0\n",
      "\n",
      "Example 4:\n",
      "Text: ישראל פכט נולד בווינה, בנם של יוכבד אֶווה (לבית פרמינגר) ובנימין יצחק (בֶּנו) פכט\n",
      "Nikud Mask:       00000001000010\n",
      "Uncertainty Mask: 01000001010001\n",
      "Overlap Ratio: 0.5\n",
      "\n",
      "Example 5:\n",
      "Text: תומנישווילי-צרתלי פרסמה קבצים ספרותיים, שהיוו אוספים של סיפוריה וסיפורים מתורגמים או מעובדים משפות זרות: \"זהבן\" (1887), \"חמישה סיפורים\" (1888), \"הזֵר\" (1893), \"דריכות החיים\" (1924), \"הפרח\" (1926) ועוד\n",
      "Nikud Mask:       000000000000000000010000000\n",
      "Uncertainty Mask: 100000000000001000000000000\n",
      "Overlap Ratio: 0.0\n",
      "\n"
     ]
    }
   ],
   "source": [
    "for i in range(len(test)):\n",
    "    print(f\"Example {i+1}:\")\n",
    "    print(\"Text:\", test.iloc[i]['text'])\n",
    "    print(\"Nikud Mask:      \", mask_str(test.iloc[i]['nikud_word_mask']))\n",
    "    print(\"Uncertainty Mask:\", mask_str(test.iloc[i]['uncertainty_word_mask']))\n",
    "    print(\"Overlap Ratio:\", test.iloc[i]['uncertainty_overlap_ratio'])\n",
    "    print()"
   ]
  },
  {
   "cell_type": "code",
   "execution_count": 80,
   "id": "93a0e113",
   "metadata": {},
   "outputs": [
    {
     "data": {
      "text/plain": [
       "[{'char': 'ק',\n",
       "  'position': (tensor(5), tensor(6)),\n",
       "  'entropy': 1.7002260453349685,\n",
       "  'margin': 0.10639014840126038,\n",
       "  'max_prob': 0.46183285117149353,\n",
       "  'top_candidates': [('ְּ', 0.46183285117149353),\n",
       "   ('ָּ', 0.35544270277023315),\n",
       "   ('ַּ', 0.14430095255374908),\n",
       "   ('ִּ', 0.025373805314302444),\n",
       "   ('', 0.004338645841926336)]},\n",
       " {'char': 'מ',\n",
       "  'position': (tensor(6), tensor(7)),\n",
       "  'entropy': 1.8923375398731663,\n",
       "  'margin': 0.3622446358203888,\n",
       "  'max_prob': 0.5610603094100952,\n",
       "  'top_candidates': [('ָ', 0.5610603094100952),\n",
       "   ('ְ', 0.19881567358970642),\n",
       "   ('ָּ', 0.1026516854763031),\n",
       "   ('ֵ', 0.0913892388343811),\n",
       "   ('ַ', 0.023114318028092384)]},\n",
       " {'char': 'ל',\n",
       "  'position': (tensor(28), tensor(29)),\n",
       "  'entropy': 1.007569559218598,\n",
       "  'margin': 0.2989606559276581,\n",
       "  'max_prob': 0.6457830667495728,\n",
       "  'top_candidates': [('ַ', 0.6457830667495728),\n",
       "   ('ָ', 0.3468224108219147),\n",
       "   ('ְ', 0.0030318722128868103),\n",
       "   ('', 0.0022456843871623278),\n",
       "   ('ַּ', 0.0006822854629717767)]},\n",
       " {'char': 'ח',\n",
       "  'position': (tensor(37), tensor(38)),\n",
       "  'entropy': 1.5076672169038867,\n",
       "  'margin': 0.5502880960702896,\n",
       "  'max_prob': 0.7078871130943298,\n",
       "  'top_candidates': [('ַ', 0.7078871130943298),\n",
       "   ('ָ', 0.15759901702404022),\n",
       "   ('ֲ', 0.04551473259925842),\n",
       "   ('ִ', 0.03282444179058075),\n",
       "   ('', 0.030110660940408707)]},\n",
       " {'char': 'מ',\n",
       "  'position': (tensor(38), tensor(39)),\n",
       "  'entropy': 1.632634188569759,\n",
       "  'margin': 0.36997297406196594,\n",
       "  'max_prob': 0.6150648593902588,\n",
       "  'top_candidates': [('ְ', 0.6150648593902588),\n",
       "   ('ָ', 0.24509188532829285),\n",
       "   ('ַ', 0.07003997266292572),\n",
       "   ('ֵ', 0.029337119311094284),\n",
       "   ('', 0.016142427921295166)]},\n",
       " {'char': 'ס',\n",
       "  'position': (tensor(39), tensor(40)),\n",
       "  'entropy': 2.130700148660023,\n",
       "  'margin': 0.43633222579956055,\n",
       "  'max_prob': 0.5839293003082275,\n",
       "  'top_candidates': [('ָ', 0.5839293003082275),\n",
       "   ('ַ', 0.147597074508667),\n",
       "   ('ָּ', 0.09151768684387207),\n",
       "   ('ֶ', 0.061459608376026154),\n",
       "   ('', 0.04276083782315254)]},\n",
       " {'char': 'ר',\n",
       "  'position': (tensor(53), tensor(54)),\n",
       "  'entropy': 1.0799215926200814,\n",
       "  'margin': 0.3467923700809479,\n",
       "  'max_prob': 0.6613171100616455,\n",
       "  'top_candidates': [('ְ', 0.6613171100616455),\n",
       "   ('ָ', 0.31452473998069763),\n",
       "   ('ַ', 0.019446339458227158),\n",
       "   ('', 0.0018335009226575494),\n",
       "   ('ֵ', 0.0009912493405863643)]},\n",
       " {'char': 'פ',\n",
       "  'position': (tensor(79), tensor(80)),\n",
       "  'entropy': 1.8382108123014451,\n",
       "  'margin': 0.4528660178184509,\n",
       "  'max_prob': 0.5897095203399658,\n",
       "  'top_candidates': [('ַ', 0.5897095203399658),\n",
       "   ('ָ', 0.1368435025215149),\n",
       "   ('ָּ', 0.11863952875137329),\n",
       "   ('ַּ', 0.10241103172302246),\n",
       "   ('', 0.04259796440601349)]},\n",
       " {'char': 'ט',\n",
       "  'position': (tensor(81), tensor(82)),\n",
       "  'entropy': 1.4407028031105016,\n",
       "  'margin': 0.575647696852684,\n",
       "  'max_prob': 0.7184517979621887,\n",
       "  'top_candidates': [('ְ', 0.7184517979621887),\n",
       "   ('ָ', 0.1428041011095047),\n",
       "   ('', 0.07029750943183899),\n",
       "   ('ַ', 0.024626147001981735),\n",
       "   ('ֶ', 0.016443882137537003)]},\n",
       " {'char': 'מ',\n",
       "  'position': (tensor(82), tensor(83)),\n",
       "  'entropy': 1.2745754535734215,\n",
       "  'margin': 0.6746911481022835,\n",
       "  'max_prob': 0.763735830783844,\n",
       "  'top_candidates': [('ָ', 0.763735830783844),\n",
       "   ('ַ', 0.08904468268156052),\n",
       "   ('ֶ', 0.08135971426963806),\n",
       "   ('', 0.04352687671780586),\n",
       "   ('ָּ', 0.0118925292044878)]},\n",
       " {'char': 'מ',\n",
       "  'position': (tensor(105), tensor(106)),\n",
       "  'entropy': 1.0701131175169303,\n",
       "  'margin': 0.6097042560577393,\n",
       "  'max_prob': 0.7757613062858582,\n",
       "  'top_candidates': [('ַּ', 0.7757613062858582),\n",
       "   ('ַ', 0.1660570502281189),\n",
       "   ('ָּ', 0.039891280233860016),\n",
       "   ('ָ', 0.006005226634442806),\n",
       "   ('', 0.0023201468866318464)]}]"
      ]
     },
     "execution_count": 80,
     "metadata": {},
     "output_type": "execute_result"
    }
   ],
   "source": [
    "_, ambiguous = ht.get_nikud_uncertainty(not_enough_overlap.iloc[0]['text'])\n",
    "ambiguous"
   ]
  }
 ],
 "metadata": {
  "kernelspec": {
   "display_name": "nikud-bert",
   "language": "python",
   "name": "python3"
  },
  "language_info": {
   "codemirror_mode": {
    "name": "ipython",
    "version": 3
   },
   "file_extension": ".py",
   "mimetype": "text/x-python",
   "name": "python",
   "nbconvert_exporter": "python",
   "pygments_lexer": "ipython3",
   "version": "3.10.18"
  }
 },
 "nbformat": 4,
 "nbformat_minor": 5
}

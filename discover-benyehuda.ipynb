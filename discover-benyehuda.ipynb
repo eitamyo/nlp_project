{
 "cells": [
  {
   "cell_type": "code",
   "execution_count": 1,
   "id": "ad22061e",
   "metadata": {},
   "outputs": [],
   "source": [
    "import pandas as pd\n",
    "\n",
    "df = pd.read_csv('./datasets/projectbenyehuda/benyehuda_nikud_dataset.csv')"
   ]
  },
  {
   "cell_type": "code",
   "execution_count": 9,
   "id": "82777a92",
   "metadata": {},
   "outputs": [
    {
     "name": "stderr",
     "output_type": "stream",
     "text": [
      "c:\\Users\\eitam\\miniconda3\\envs\\nikud-bert\\lib\\site-packages\\tqdm\\auto.py:21: TqdmWarning: IProgress not found. Please update jupyter and ipywidgets. See https://ipywidgets.readthedocs.io/en/stable/user_install.html\n",
      "  from .autonotebook import tqdm as notebook_tqdm\n"
     ]
    }
   ],
   "source": [
    "from transformers import AutoTokenizer\n",
    "\n",
    "# Load tokenizer once\n",
    "TOKENIZER_NAME = \"dicta-il/dictabert-large-char-menaked\"\n",
    "tokenizer = AutoTokenizer.from_pretrained(TOKENIZER_NAME)"
   ]
  },
  {
   "cell_type": "code",
   "execution_count": 2,
   "id": "5d80a226",
   "metadata": {},
   "outputs": [
    {
     "name": "stdout",
     "output_type": "stream",
     "text": [
      "      id           title                                               text  \\\n",
      "0  10026  איש הולך ברחוב  איש הולך ברחוב מאת רחל נגב אִישׁ הֹולֵךְ בָּרְ...   \n",
      "1  10026  איש הולך ברחוב  אוּלַי אֵין לוֹ מִישֶׁהוּ לְדַבֵּר עִמּוֹ בַּב...   \n",
      "2  10026  איש הולך ברחוב               וַדַּאי אֵין מִי שֶׁיְּדַבֵּר עִמּוֹ   \n",
      "3  10026  איש הולך ברחוב                 אִישׁ הֹולֵךְ בָּרְחוֹב וּמְדַבֵּר   \n",
      "4  10026  איש הולך ברחוב  אֶפְשָׁר לוֹמַר: אִישׁ הֹולֵךְ בָּרְחוֹב וּמְד...   \n",
      "\n",
      "                                          nikud_mask  \n",
      "0  [0, 0, 0, 0, 0, 0, 0, 0, 0, 0, 0, 0, 0, 0, 0, ...  \n",
      "1  [0, 0, 1, 1, 0, 0, 1, 0, 0, 0, 0, 1, 0, 1, 0, ...  \n",
      "2  [0, 1, 1, 0, 0, 0, 1, 0, 0, 0, 1, 0, 0, 1, 1, ...  \n",
      "3  [0, 1, 0, 1, 0, 1, 0, 1, 1, 0, 1, 1, 0, 1, 0, ...  \n",
      "4  [0, 1, 1, 1, 0, 0, 0, 1, 1, 0, 0, 0, 1, 0, 1, ...  \n",
      "<class 'pandas.core.frame.DataFrame'>\n",
      "RangeIndex: 55495 entries, 0 to 55494\n",
      "Data columns (total 4 columns):\n",
      " #   Column      Non-Null Count  Dtype \n",
      "---  ------      --------------  ----- \n",
      " 0   id          55495 non-null  int64 \n",
      " 1   title       55495 non-null  object\n",
      " 2   text        55495 non-null  object\n",
      " 3   nikud_mask  55495 non-null  object\n",
      "dtypes: int64(1), object(3)\n",
      "memory usage: 1.7+ MB\n",
      "None\n",
      "        text_length\n",
      "count  55495.000000\n",
      "mean     116.719524\n",
      "std      118.114146\n",
      "min        3.000000\n",
      "25%       50.000000\n",
      "50%       88.000000\n",
      "75%      148.000000\n",
      "max     7181.000000\n",
      "id             0\n",
      "title          0\n",
      "text           0\n",
      "nikud_mask     0\n",
      "text_length    0\n",
      "dtype: int64\n",
      "nikud_mask_length\n",
      "21    495\n",
      "41    492\n",
      "53    480\n",
      "25    476\n",
      "24    473\n",
      "Name: count, dtype: int64\n"
     ]
    }
   ],
   "source": [
    "# Display the first few rows of the dataframe\n",
    "print(df.head())\n",
    "\n",
    "# Show basic info about the dataframe\n",
    "print(df.info())\n",
    "\n",
    "# Show summary statistics for the length of text and article_length columns\n",
    "df['text_length'] = df['text'].apply(len)\n",
    "print(df[['text_length']].describe())\n",
    "\n",
    "# Check for missing values\n",
    "print(df.isnull().sum())\n",
    "\n",
    "# Display the distribution of nikud_mask lengths\n",
    "df['nikud_mask_length'] = df['nikud_mask'].apply(lambda x: len(x.split()))\n",
    "print(df['nikud_mask_length'].value_counts().head())"
   ]
  },
  {
   "cell_type": "code",
   "execution_count": 3,
   "id": "cc4b3d6a",
   "metadata": {},
   "outputs": [],
   "source": [
    "import re\n",
    "\n",
    "NIKUD_PATTERN = re.compile(\n",
    "    '['\n",
    "    '\\u05B0'  # sheva\n",
    "    '\\u05B1'  # hataf segol\n",
    "    '\\u05B2'  # hataf patah\n",
    "    '\\u05B3'  # hataf qamats\n",
    "    '\\u05B4'  # hiriq\n",
    "    '\\u05B5'  # tsere\n",
    "    '\\u05B6'  # segol\n",
    "    '\\u05B7'  # patah\n",
    "    '\\u05B8'  # qamats\n",
    "    '\\u05B9'  # holam\n",
    "    '\\u05BB'  # qubuts\n",
    "    '\\u05BC'  # dagesh or mapiq\n",
    "    '\\u05BD'  # meteg\n",
    "    '\\u05BF'  # rafe (rare)\n",
    "    '\\u05C1'  # shin dot\n",
    "    '\\u05C2'  # sin dot\n",
    "    '\\u05C7'  # qamats qatan\n",
    "    ']'\n",
    ")"
   ]
  },
  {
   "cell_type": "code",
   "execution_count": 4,
   "id": "4a8c1d06",
   "metadata": {},
   "outputs": [
    {
     "name": "stdout",
     "output_type": "stream",
     "text": [
      "All rows contain at least one word with nikud: True\n"
     ]
    }
   ],
   "source": [
    "# Check if each row contains at least one word with nikud using NIKUD_PATTERN\n",
    "def has_word_with_nikud(text):\n",
    "    return any(NIKUD_PATTERN.search(word) for word in text.split())\n",
    "\n",
    "# Apply the function to the 'text' column and check if all rows satisfy the condition\n",
    "all_have_nikud = df['text'].apply(has_word_with_nikud).all()\n",
    "print(\"All rows contain at least one word with nikud:\", all_have_nikud)"
   ]
  },
  {
   "cell_type": "code",
   "execution_count": 39,
   "id": "e6a4d8bc",
   "metadata": {},
   "outputs": [],
   "source": [
    "import ast\n",
    "\n",
    "def find_next_space(tokens, index):\n",
    "    \"\"\"Find the next space after the given index in the token list.\"\"\"\n",
    "    for i in range(index, len(tokens)):\n",
    "        if tokens[i] == \" \":\n",
    "            return i\n",
    "    return None\n",
    "\n",
    "def find_previous_space(tokens, index):\n",
    "    \"\"\"Find the previous space before the given index in the token list.\"\"\"\n",
    "    for i in range(index - 1, -1, -1):\n",
    "        if tokens[i] == \" \":\n",
    "            return i\n",
    "    return None\n",
    "\n",
    "# Find rows where the nikud_mask contains only one to three 1s in a row (consecutive)\n",
    "\n",
    "\n",
    "def has_1s_run(text, mask, min_run=1, max_run=3):\n",
    "    mask_str = ''.join(str(x) for x in mask)\n",
    "    tokens = tokenizer.tokenize(text)\n",
    "    # Check for runs of 1s of length 1, 2, or 3\n",
    "    for run_length in range(max_run, min_run - 1, -1):\n",
    "        # print(f\"Checking for run of {run_length} 1s in mask: {mask_str}\")\n",
    "        i = mask_str.find(f\"{'1' * run_length}\")\n",
    "        if i != -1:\n",
    "            prev = find_previous_space(tokens, i)\n",
    "            prevprev = find_previous_space(tokens, prev) if prev is not None else None\n",
    "            prevvalid = True\n",
    "            if prevprev is not None:\n",
    "                prevvalid = '1' not in mask_str[prevprev+1:prev]\n",
    "            elif prev is not None:\n",
    "                prevvalid = '1' not in mask_str[0:prev]\n",
    "            next = find_next_space(tokens, i + run_length)\n",
    "            nextnext = find_next_space(tokens, next + 1) if next is not None else None\n",
    "            nextvalid = True\n",
    "            if nextnext is not None:\n",
    "                nextvalid = '1' not in mask_str[next+1:nextnext]\n",
    "            elif next is not None:\n",
    "                nextvalid = '1' not in mask_str[next+1:]\n",
    "            # print(f\"Found run of {run_length} 1s in mask: {mask_str} at position {i}\")\n",
    "            # Check if the run is isolated by at least 3 zeros\n",
    "            # if (i == 0 or mask_str[i - 1] == '0') and (i + run_length == len(mask_str) or mask_str[i + run_length] == '0') and \\\n",
    "            #    (i <= 1 or mask_str[i - 2] == '0') and (i + run_length + 1 >= len(mask_str) or mask_str[i + run_length + 1] == '0'):\n",
    "            if prevvalid and nextvalid:\n",
    "                # print(f\"Isolated run of {run_length} 1s in mask: {mask_str} at position {i}\")\n",
    "                # print(f\"Previous space at {prev}, previous previous space at {prevprev}, next space at {next}, next next space at {nextnext}\")\n",
    "                return True\n",
    "    return False\n",
    "\n",
    "def column_filter(row):\n",
    "    text = row['text']\n",
    "    mask = ast.literal_eval(row['nikud_mask'])\n",
    "    return has_1s_run(text, mask, min_run=1, max_run=3)"
   ]
  },
  {
   "cell_type": "code",
   "execution_count": 40,
   "id": "74e5c6eb",
   "metadata": {},
   "outputs": [
    {
     "data": {
      "text/plain": [
       "'[0, 0, 0, 0, 0, 0, 0, 0, 0, 0, 0, 0, 0, 0, 0, 0, 0, 0, 0, 0, 0, 0, 0, 0, 0, 0, 0, 0, 0, 0, 0, 0, 1, 0, 0, 0, 0, 0, 0, 1, 0, 0, 0, 0, 0, 0, 0, 0, 0, 0, 0, 0, 0, 0, 0, 0, 0, 0, 0, 0, 0, 0, 0, 0, 0, 0, 0, 0, 0, 0, 0, 0, 0, 0, 0, 0, 0, 0, 0, 0, 0, 0, 0, 0, 0, 0, 0, 0, 0, 0, 0, 0, 0, 0, 0, 0, 0, 0, 0, 0, 0, 0, 0, 0, 0, 0, 0, 0, 0, 0, 0, 0, 0, 0, 0, 0, 0, 0, 0, 0, 0, 0, 0, 0, 0, 0, 0, 0, 0, 0, 0, 0, 0, 0, 0, 0, 0, 0, 0, 0, 0, 0, 0, 0, 0]'"
      ]
     },
     "execution_count": 40,
     "metadata": {},
     "output_type": "execute_result"
    }
   ],
   "source": [
    "filtered_rows = df.sample(5)\n",
    "filtered_rows.iloc[0]['nikud_mask']\n"
   ]
  },
  {
   "cell_type": "code",
   "execution_count": 41,
   "id": "189d8f87",
   "metadata": {},
   "outputs": [
    {
     "data": {
      "text/html": [
       "<div>\n",
       "<style scoped>\n",
       "    .dataframe tbody tr th:only-of-type {\n",
       "        vertical-align: middle;\n",
       "    }\n",
       "\n",
       "    .dataframe tbody tr th {\n",
       "        vertical-align: top;\n",
       "    }\n",
       "\n",
       "    .dataframe thead th {\n",
       "        text-align: right;\n",
       "    }\n",
       "</style>\n",
       "<table border=\"1\" class=\"dataframe\">\n",
       "  <thead>\n",
       "    <tr style=\"text-align: right;\">\n",
       "      <th></th>\n",
       "      <th>id</th>\n",
       "      <th>title</th>\n",
       "      <th>text</th>\n",
       "      <th>nikud_mask</th>\n",
       "      <th>text_length</th>\n",
       "      <th>nikud_mask_length</th>\n",
       "    </tr>\n",
       "  </thead>\n",
       "  <tbody>\n",
       "    <tr>\n",
       "      <th>55386</th>\n",
       "      <td>9155</td>\n",
       "      <td>אורח נוסח א</td>\n",
       "      <td>לבֶּן ותפוחי־אדמה – חשב בלבו – חלב חמוץ ותפוחי...</td>\n",
       "      <td>[0, 0, 1, 0, 0, 0, 0, 0, 0, 0, 0, 0, 0, 0, 0, ...</td>\n",
       "      <td>59</td>\n",
       "      <td>59</td>\n",
       "    </tr>\n",
       "    <tr>\n",
       "      <th>2601</th>\n",
       "      <td>12048</td>\n",
       "      <td>אוב</td>\n",
       "      <td>החיים מקבלים יותר ויותר אופי של מחול־שכחה של ס...</td>\n",
       "      <td>[0, 0, 0, 0, 0, 0, 0, 0, 0, 0, 0, 0, 0, 0, 0, ...</td>\n",
       "      <td>123</td>\n",
       "      <td>126</td>\n",
       "    </tr>\n",
       "  </tbody>\n",
       "</table>\n",
       "</div>"
      ],
      "text/plain": [
       "          id        title                                               text  \\\n",
       "55386   9155  אורח נוסח א  לבֶּן ותפוחי־אדמה – חשב בלבו – חלב חמוץ ותפוחי...   \n",
       "2601   12048          אוב  החיים מקבלים יותר ויותר אופי של מחול־שכחה של ס...   \n",
       "\n",
       "                                              nikud_mask  text_length  \\\n",
       "55386  [0, 0, 1, 0, 0, 0, 0, 0, 0, 0, 0, 0, 0, 0, 0, ...           59   \n",
       "2601   [0, 0, 0, 0, 0, 0, 0, 0, 0, 0, 0, 0, 0, 0, 0, ...          123   \n",
       "\n",
       "       nikud_mask_length  \n",
       "55386                 59  \n",
       "2601                 126  "
      ]
     },
     "execution_count": 41,
     "metadata": {},
     "output_type": "execute_result"
    }
   ],
   "source": [
    "filtered_rows = filtered_rows[filtered_rows.apply(column_filter, axis=1)]\n",
    "filtered_rows"
   ]
  },
  {
   "cell_type": "code",
   "execution_count": 42,
   "id": "9d8313e4",
   "metadata": {},
   "outputs": [
    {
     "data": {
      "text/plain": [
       "'לבֶּן ותפוחי־אדמה – חשב בלבו – חלב חמוץ ותפוחי־אדמה מטוגנים'"
      ]
     },
     "execution_count": 42,
     "metadata": {},
     "output_type": "execute_result"
    }
   ],
   "source": [
    "filtered_rows['text'].values[0]"
   ]
  },
  {
   "cell_type": "code",
   "execution_count": 43,
   "id": "c5adbac5",
   "metadata": {},
   "outputs": [
    {
     "data": {
      "text/plain": [
       "(30388, 6)"
      ]
     },
     "execution_count": 43,
     "metadata": {},
     "output_type": "execute_result"
    }
   ],
   "source": [
    "# filtered_df = df[df['nikud_mask'].apply(lambda x: has_1s_run(ast.literal_eval(x)) if isinstance(x, str) else has_1s_run(x))]\n",
    "filtered_df = df[df.apply(column_filter, axis=1)]\n",
    "filtered_df.shape"
   ]
  },
  {
   "cell_type": "code",
   "execution_count": null,
   "id": "749048b4",
   "metadata": {},
   "outputs": [
    {
     "data": {
      "text/plain": [
       "True"
      ]
     },
     "execution_count": 44,
     "metadata": {},
     "output_type": "execute_result"
    }
   ],
   "source": [
    "sample_text = filtered_df.head(1).values[0][2]\n",
    "sample_mask = filtered_df.head(1).values[0][3]\n",
    "# has_1s_run(sample_text, ast.literal_eval(sample_mask))\n"
   ]
  },
  {
   "cell_type": "code",
   "execution_count": 45,
   "id": "a182882c",
   "metadata": {},
   "outputs": [
    {
     "data": {
      "text/html": [
       "<div>\n",
       "<style scoped>\n",
       "    .dataframe tbody tr th:only-of-type {\n",
       "        vertical-align: middle;\n",
       "    }\n",
       "\n",
       "    .dataframe tbody tr th {\n",
       "        vertical-align: top;\n",
       "    }\n",
       "\n",
       "    .dataframe thead th {\n",
       "        text-align: right;\n",
       "    }\n",
       "</style>\n",
       "<table border=\"1\" class=\"dataframe\">\n",
       "  <thead>\n",
       "    <tr style=\"text-align: right;\">\n",
       "      <th></th>\n",
       "      <th>id</th>\n",
       "      <th>title</th>\n",
       "      <th>text</th>\n",
       "      <th>nikud_mask</th>\n",
       "      <th>text_length</th>\n",
       "      <th>nikud_mask_length</th>\n",
       "    </tr>\n",
       "  </thead>\n",
       "  <tbody>\n",
       "    <tr>\n",
       "      <th>11</th>\n",
       "      <td>1034</td>\n",
       "      <td>אחר חצות</td>\n",
       "      <td>וברכּוּת נלבבת כל כך… אין זה גבר, נגיעה קלילה ...</td>\n",
       "      <td>[0, 0, 0, 0, 1, 1, 0, 0, 0, 0, 0, 0, 0, 0, 0, ...</td>\n",
       "      <td>70</td>\n",
       "      <td>72</td>\n",
       "    </tr>\n",
       "    <tr>\n",
       "      <th>12</th>\n",
       "      <td>1034</td>\n",
       "      <td>אחר חצות</td>\n",
       "      <td>ולא דפיקתה הקדחתנית של אשה היא, הבאה בצל-הלילה...</td>\n",
       "      <td>[0, 0, 0, 0, 0, 0, 0, 0, 0, 0, 0, 0, 0, 0, 0, ...</td>\n",
       "      <td>90</td>\n",
       "      <td>92</td>\n",
       "    </tr>\n",
       "    <tr>\n",
       "      <th>13</th>\n",
       "      <td>1034</td>\n",
       "      <td>אחר חצות</td>\n",
       "      <td>אך אחותי שומרת את ערשׂ-חליה, ואמי שלי רחוקה, מ...</td>\n",
       "      <td>[0, 0, 0, 0, 0, 0, 0, 0, 0, 0, 0, 0, 0, 0, 0, ...</td>\n",
       "      <td>101</td>\n",
       "      <td>103</td>\n",
       "    </tr>\n",
       "    <tr>\n",
       "      <th>14</th>\n",
       "      <td>1034</td>\n",
       "      <td>אחר חצות</td>\n",
       "      <td>ויודע אני, כי זו הדופקת ולבי שומע, תשמע גם ותא...</td>\n",
       "      <td>[0, 0, 0, 0, 0, 0, 0, 0, 0, 0, 0, 0, 0, 0, 0, ...</td>\n",
       "      <td>76</td>\n",
       "      <td>77</td>\n",
       "    </tr>\n",
       "    <tr>\n",
       "      <th>15</th>\n",
       "      <td>1034</td>\n",
       "      <td>אחר חצות</td>\n",
       "      <td>שׂרה בת-טובים</td>\n",
       "      <td>[0, 1, 0, 0, 0, 0, 0, 0, 0, 0, 0, 0, 0, 0]</td>\n",
       "      <td>13</td>\n",
       "      <td>14</td>\n",
       "    </tr>\n",
       "  </tbody>\n",
       "</table>\n",
       "</div>"
      ],
      "text/plain": [
       "      id     title                                               text  \\\n",
       "11  1034  אחר חצות  וברכּוּת נלבבת כל כך… אין זה גבר, נגיעה קלילה ...   \n",
       "12  1034  אחר חצות  ולא דפיקתה הקדחתנית של אשה היא, הבאה בצל-הלילה...   \n",
       "13  1034  אחר חצות  אך אחותי שומרת את ערשׂ-חליה, ואמי שלי רחוקה, מ...   \n",
       "14  1034  אחר חצות  ויודע אני, כי זו הדופקת ולבי שומע, תשמע גם ותא...   \n",
       "15  1034  אחר חצות                                      שׂרה בת-טובים   \n",
       "\n",
       "                                           nikud_mask  text_length  \\\n",
       "11  [0, 0, 0, 0, 1, 1, 0, 0, 0, 0, 0, 0, 0, 0, 0, ...           70   \n",
       "12  [0, 0, 0, 0, 0, 0, 0, 0, 0, 0, 0, 0, 0, 0, 0, ...           90   \n",
       "13  [0, 0, 0, 0, 0, 0, 0, 0, 0, 0, 0, 0, 0, 0, 0, ...          101   \n",
       "14  [0, 0, 0, 0, 0, 0, 0, 0, 0, 0, 0, 0, 0, 0, 0, ...           76   \n",
       "15         [0, 1, 0, 0, 0, 0, 0, 0, 0, 0, 0, 0, 0, 0]           13   \n",
       "\n",
       "    nikud_mask_length  \n",
       "11                 72  \n",
       "12                 92  \n",
       "13                103  \n",
       "14                 77  \n",
       "15                 14  "
      ]
     },
     "execution_count": 45,
     "metadata": {},
     "output_type": "execute_result"
    }
   ],
   "source": [
    "filtered_df.head(5)"
   ]
  },
  {
   "cell_type": "code",
   "execution_count": 46,
   "id": "eb461656",
   "metadata": {},
   "outputs": [],
   "source": [
    "filtered_df.to_csv('./datasets/projectbenyehuda/benyehuda_nikud_dataset_filtered.csv', index=False)"
   ]
  }
 ],
 "metadata": {
  "kernelspec": {
   "display_name": "nikud-bert",
   "language": "python",
   "name": "python3"
  },
  "language_info": {
   "codemirror_mode": {
    "name": "ipython",
    "version": 3
   },
   "file_extension": ".py",
   "mimetype": "text/x-python",
   "name": "python",
   "nbconvert_exporter": "python",
   "pygments_lexer": "ipython3",
   "version": "3.10.18"
  }
 },
 "nbformat": 4,
 "nbformat_minor": 5
}

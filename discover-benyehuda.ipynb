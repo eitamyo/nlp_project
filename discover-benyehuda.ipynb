{
 "cells": [
  {
   "cell_type": "code",
   "execution_count": 1,
   "id": "ad22061e",
   "metadata": {},
   "outputs": [],
   "source": [
    "import pandas as pd\n",
    "\n",
    "df = pd.read_csv('./datasets/projectbenyehuda/benyehuda_nikud_dataset.csv')"
   ]
  },
  {
   "cell_type": "code",
   "execution_count": 2,
   "id": "82777a92",
   "metadata": {},
   "outputs": [],
   "source": [
    "from transformers import AutoTokenizer\n",
    "\n",
    "# Load tokenizer once\n",
    "TOKENIZER_NAME = \"dicta-il/dictabert-large-char-menaked\"\n",
    "tokenizer = AutoTokenizer.from_pretrained(TOKENIZER_NAME)"
   ]
  },
  {
   "cell_type": "code",
   "execution_count": 3,
   "id": "5d80a226",
   "metadata": {},
   "outputs": [
    {
     "name": "stdout",
     "output_type": "stream",
     "text": [
      "      id           title                                               text  \\\n",
      "0  10026  איש הולך ברחוב  איש הולך ברחוב מאת רחל נגב אִישׁ הֹולֵךְ בָּרְ...   \n",
      "1  10026  איש הולך ברחוב  אוּלַי אֵין לוֹ מִישֶׁהוּ לְדַבֵּר עִמּוֹ בַּב...   \n",
      "2  10026  איש הולך ברחוב               וַדַּאי אֵין מִי שֶׁיְּדַבֵּר עִמּוֹ   \n",
      "3  10026  איש הולך ברחוב                 אִישׁ הֹולֵךְ בָּרְחוֹב וּמְדַבֵּר   \n",
      "4  10026  איש הולך ברחוב  אֶפְשָׁר לוֹמַר: אִישׁ הֹולֵךְ בָּרְחוֹב וּמְד...   \n",
      "\n",
      "                                          nikud_mask  \n",
      "0  [0, 0, 0, 0, 0, 0, 0, 0, 0, 0, 0, 0, 0, 0, 0, ...  \n",
      "1  [0, 0, 1, 1, 0, 0, 1, 0, 0, 0, 0, 1, 0, 1, 0, ...  \n",
      "2  [0, 1, 1, 0, 0, 0, 1, 0, 0, 0, 1, 0, 0, 1, 1, ...  \n",
      "3  [0, 1, 0, 1, 0, 1, 0, 1, 1, 0, 1, 1, 0, 1, 0, ...  \n",
      "4  [0, 1, 1, 1, 0, 0, 0, 1, 1, 0, 0, 0, 1, 0, 1, ...  \n",
      "<class 'pandas.core.frame.DataFrame'>\n",
      "RangeIndex: 114261 entries, 0 to 114260\n",
      "Data columns (total 4 columns):\n",
      " #   Column      Non-Null Count   Dtype \n",
      "---  ------      --------------   ----- \n",
      " 0   id          114261 non-null  int64 \n",
      " 1   title       114260 non-null  object\n",
      " 2   text        114261 non-null  object\n",
      " 3   nikud_mask  114261 non-null  object\n",
      "dtypes: int64(1), object(3)\n",
      "memory usage: 3.5+ MB\n",
      "None\n",
      "         text_length\n",
      "count  114261.000000\n",
      "mean      126.056257\n",
      "std       131.669838\n",
      "min         3.000000\n",
      "25%        50.000000\n",
      "50%        93.000000\n",
      "75%       160.000000\n",
      "max      7181.000000\n",
      "id             0\n",
      "title          1\n",
      "text           0\n",
      "nikud_mask     0\n",
      "text_length    0\n",
      "dtype: int64\n",
      "nikud_mask_length\n",
      "25    995\n",
      "21    947\n",
      "19    925\n",
      "41    922\n",
      "24    915\n",
      "Name: count, dtype: int64\n"
     ]
    }
   ],
   "source": [
    "# Display the first few rows of the dataframe\n",
    "print(df.head())\n",
    "\n",
    "# Show basic info about the dataframe\n",
    "print(df.info())\n",
    "\n",
    "# Show summary statistics for the length of text and article_length columns\n",
    "df['text_length'] = df['text'].apply(len)\n",
    "print(df[['text_length']].describe())\n",
    "\n",
    "# Check for missing values\n",
    "print(df.isnull().sum())\n",
    "\n",
    "# Display the distribution of nikud_mask lengths\n",
    "df['nikud_mask_length'] = df['nikud_mask'].apply(lambda x: len(x.split()))\n",
    "print(df['nikud_mask_length'].value_counts().head())"
   ]
  },
  {
   "cell_type": "code",
   "execution_count": 4,
   "id": "cc4b3d6a",
   "metadata": {},
   "outputs": [],
   "source": [
    "import re\n",
    "\n",
    "NIKUD_PATTERN = re.compile(\n",
    "    '['\n",
    "    '\\u05B0'  # sheva\n",
    "    '\\u05B1'  # hataf segol\n",
    "    '\\u05B2'  # hataf patah\n",
    "    '\\u05B3'  # hataf qamats\n",
    "    '\\u05B4'  # hiriq\n",
    "    '\\u05B5'  # tsere\n",
    "    '\\u05B6'  # segol\n",
    "    '\\u05B7'  # patah\n",
    "    '\\u05B8'  # qamats\n",
    "    '\\u05B9'  # holam\n",
    "    '\\u05BB'  # qubuts\n",
    "    '\\u05BC'  # dagesh or mapiq\n",
    "    '\\u05BD'  # meteg\n",
    "    '\\u05BF'  # rafe (rare)\n",
    "    '\\u05C1'  # shin dot\n",
    "    '\\u05C2'  # sin dot\n",
    "    '\\u05C7'  # qamats qatan\n",
    "    ']'\n",
    ")"
   ]
  },
  {
   "cell_type": "code",
   "execution_count": 5,
   "id": "4a8c1d06",
   "metadata": {},
   "outputs": [
    {
     "name": "stdout",
     "output_type": "stream",
     "text": [
      "All rows contain at least one word with nikud: True\n"
     ]
    }
   ],
   "source": [
    "# Check if each row contains at least one word with nikud using NIKUD_PATTERN\n",
    "def has_word_with_nikud(text):\n",
    "    return any(NIKUD_PATTERN.search(word) for word in text.split())\n",
    "\n",
    "# Apply the function to the 'text' column and check if all rows satisfy the condition\n",
    "all_have_nikud = df['text'].apply(has_word_with_nikud).all()\n",
    "print(\"All rows contain at least one word with nikud:\", all_have_nikud)"
   ]
  },
  {
   "cell_type": "code",
   "execution_count": null,
   "id": "e6a4d8bc",
   "metadata": {},
   "outputs": [],
   "source": [
    "import ast\n",
    "\n",
    "def find_next_space(tokens, index):\n",
    "    \"\"\"Find the next space after the given index in the token list.\"\"\"\n",
    "    for i in range(index, len(tokens)):\n",
    "        if tokens[i] == \" \":\n",
    "            return i\n",
    "    return None\n",
    "\n",
    "def find_previous_space(tokens, index):\n",
    "    \"\"\"Find the previous space before the given index in the token list.\"\"\"\n",
    "    for i in range(index - 1, -1, -1):\n",
    "        if tokens[i] == \" \":\n",
    "            return i\n",
    "    return None\n",
    "\n",
    "# Find rows where the nikud_mask contains only one to three 1s in a row (consecutive)\n",
    "def has_1s_run(text, mask, min_run=1, max_run=3):\n",
    "    mask_str = ''.join(str(x) for x in mask)\n",
    "    tokens = tokenizer.tokenize(text)\n",
    "    # Check for runs of 1s of length 1, 2, or 3\n",
    "    for run_length in range(max_run, min_run - 1, -1):\n",
    "        i = mask_str.find(f\"{'1' * run_length}\")\n",
    "        if i != -1:\n",
    "            prev = find_previous_space(tokens, i)\n",
    "            prevprev = find_previous_space(tokens, prev) if prev is not None else None\n",
    "            prevvalid = True\n",
    "            if prevprev is not None:\n",
    "                prevvalid = '1' not in mask_str[prevprev+1:prev]\n",
    "            elif prev is not None:\n",
    "                prevvalid = '1' not in mask_str[0:prev]\n",
    "            next = find_next_space(tokens, i + run_length)\n",
    "            nextnext = find_next_space(tokens, next + 1) if next is not None else None\n",
    "            nextvalid = True\n",
    "            if nextnext is not None:\n",
    "                nextvalid = '1' not in mask_str[next+1:nextnext]\n",
    "            elif next is not None:\n",
    "                nextvalid = '1' not in mask_str[next+1:]\n",
    "\n",
    "            if prevvalid and nextvalid:\n",
    "                return True\n",
    "    return False\n",
    "\n",
    "def column_filter(row):\n",
    "    text = row['text']\n",
    "    mask = ast.literal_eval(row['nikud_mask'])\n",
    "    return has_1s_run(text, mask, min_run=1, max_run=3)"
   ]
  },
  {
   "cell_type": "code",
   "execution_count": 7,
   "id": "74e5c6eb",
   "metadata": {},
   "outputs": [
    {
     "data": {
      "text/plain": [
       "'[0, 0, 0, 0, 0, 0, 0, 0, 0, 0, 0, 0, 0, 0, 0, 0, 0, 0, 0, 0, 0, 0, 0, 0, 0, 0, 0, 0, 0, 0, 0, 0, 0, 0, 0, 0, 0, 0, 0, 0, 0, 0, 0, 0, 0, 0, 0, 0, 0, 0, 0, 0, 0, 0, 0, 0, 0, 0, 0, 0, 0, 0, 0, 0, 0, 0, 0, 0, 0, 0, 0, 0, 0, 0, 0, 0, 0, 0, 0, 0, 0, 0, 0, 0, 0, 0, 0, 0, 0, 0, 0, 0, 0, 0, 0, 0, 0, 0, 1, 0, 1, 0, 0, 0, 0, 0, 0, 0, 0, 0, 0, 0, 0, 0, 0, 0, 0, 0, 0]'"
      ]
     },
     "execution_count": 7,
     "metadata": {},
     "output_type": "execute_result"
    }
   ],
   "source": [
    "filtered_rows = df.sample(5)\n",
    "filtered_rows.iloc[0]['nikud_mask']\n"
   ]
  },
  {
   "cell_type": "code",
   "execution_count": 8,
   "id": "189d8f87",
   "metadata": {},
   "outputs": [
    {
     "data": {
      "text/html": [
       "<div>\n",
       "<style scoped>\n",
       "    .dataframe tbody tr th:only-of-type {\n",
       "        vertical-align: middle;\n",
       "    }\n",
       "\n",
       "    .dataframe tbody tr th {\n",
       "        vertical-align: top;\n",
       "    }\n",
       "\n",
       "    .dataframe thead th {\n",
       "        text-align: right;\n",
       "    }\n",
       "</style>\n",
       "<table border=\"1\" class=\"dataframe\">\n",
       "  <thead>\n",
       "    <tr style=\"text-align: right;\">\n",
       "      <th></th>\n",
       "      <th>id</th>\n",
       "      <th>title</th>\n",
       "      <th>text</th>\n",
       "      <th>nikud_mask</th>\n",
       "      <th>text_length</th>\n",
       "      <th>nikud_mask_length</th>\n",
       "    </tr>\n",
       "  </thead>\n",
       "  <tbody>\n",
       "    <tr>\n",
       "      <th>91303</th>\n",
       "      <td>50048</td>\n",
       "      <td>אבות ובנים</td>\n",
       "      <td>אתה נשמה עדינה, רכרוכי, כיצד תוכל לשנוא!… אתה ...</td>\n",
       "      <td>[0, 0, 0, 0, 0, 0, 0, 0, 0, 0, 0, 0, 0, 0, 0, ...</td>\n",
       "      <td>115</td>\n",
       "      <td>119</td>\n",
       "    </tr>\n",
       "    <tr>\n",
       "      <th>20603</th>\n",
       "      <td>14166</td>\n",
       "      <td>אורליה ספר החזיונות והתפילות</td>\n",
       "      <td>והנה עלומי ניצב בשולי הדרך, ולבי נרגע מגלוּתו</td>\n",
       "      <td>[0, 0, 0, 0, 0, 0, 0, 0, 0, 0, 0, 0, 0, 0, 0, ...</td>\n",
       "      <td>45</td>\n",
       "      <td>46</td>\n",
       "    </tr>\n",
       "    <tr>\n",
       "      <th>61187</th>\n",
       "      <td>33859</td>\n",
       "      <td>בלילות</td>\n",
       "      <td>כרמיבַּלֵּילוֹת מאת ט</td>\n",
       "      <td>[0, 0, 0, 0, 0, 1, 1, 0, 0, 1, 0, 0, 0, 0, 0, ...</td>\n",
       "      <td>21</td>\n",
       "      <td>18</td>\n",
       "    </tr>\n",
       "    <tr>\n",
       "      <th>34039</th>\n",
       "      <td>22580</td>\n",
       "      <td>אילן מאליונר</td>\n",
       "      <td>אז יאללה, תיהנה מהחיים אילן כל זמן שאתה צעיר, ...</td>\n",
       "      <td>[0, 0, 0, 0, 0, 0, 0, 0, 0, 0, 0, 0, 0, 0, 0, ...</td>\n",
       "      <td>148</td>\n",
       "      <td>149</td>\n",
       "    </tr>\n",
       "    <tr>\n",
       "      <th>35505</th>\n",
       "      <td>23942</td>\n",
       "      <td>ספר הגעגועים רומאן</td>\n",
       "      <td>ואכן, צבי ואני עשינו כמיטב יכולתנו במשׂור ובפצ...</td>\n",
       "      <td>[0, 0, 0, 0, 0, 0, 0, 0, 0, 0, 0, 0, 0, 0, 0, ...</td>\n",
       "      <td>90</td>\n",
       "      <td>91</td>\n",
       "    </tr>\n",
       "  </tbody>\n",
       "</table>\n",
       "</div>"
      ],
      "text/plain": [
       "          id                         title  \\\n",
       "91303  50048                    אבות ובנים   \n",
       "20603  14166  אורליה ספר החזיונות והתפילות   \n",
       "61187  33859                        בלילות   \n",
       "34039  22580                  אילן מאליונר   \n",
       "35505  23942            ספר הגעגועים רומאן   \n",
       "\n",
       "                                                    text  \\\n",
       "91303  אתה נשמה עדינה, רכרוכי, כיצד תוכל לשנוא!… אתה ...   \n",
       "20603      והנה עלומי ניצב בשולי הדרך, ולבי נרגע מגלוּתו   \n",
       "61187                              כרמיבַּלֵּילוֹת מאת ט   \n",
       "34039  אז יאללה, תיהנה מהחיים אילן כל זמן שאתה צעיר, ...   \n",
       "35505  ואכן, צבי ואני עשינו כמיטב יכולתנו במשׂור ובפצ...   \n",
       "\n",
       "                                              nikud_mask  text_length  \\\n",
       "91303  [0, 0, 0, 0, 0, 0, 0, 0, 0, 0, 0, 0, 0, 0, 0, ...          115   \n",
       "20603  [0, 0, 0, 0, 0, 0, 0, 0, 0, 0, 0, 0, 0, 0, 0, ...           45   \n",
       "61187  [0, 0, 0, 0, 0, 1, 1, 0, 0, 1, 0, 0, 0, 0, 0, ...           21   \n",
       "34039  [0, 0, 0, 0, 0, 0, 0, 0, 0, 0, 0, 0, 0, 0, 0, ...          148   \n",
       "35505  [0, 0, 0, 0, 0, 0, 0, 0, 0, 0, 0, 0, 0, 0, 0, ...           90   \n",
       "\n",
       "       nikud_mask_length  \n",
       "91303                119  \n",
       "20603                 46  \n",
       "61187                 18  \n",
       "34039                149  \n",
       "35505                 91  "
      ]
     },
     "execution_count": 8,
     "metadata": {},
     "output_type": "execute_result"
    }
   ],
   "source": [
    "filtered_rows = filtered_rows[filtered_rows.apply(column_filter, axis=1)]\n",
    "filtered_rows"
   ]
  },
  {
   "cell_type": "code",
   "execution_count": 9,
   "id": "9d8313e4",
   "metadata": {},
   "outputs": [
    {
     "data": {
      "text/plain": [
       "'אתה נשמה עדינה, רכרוכי, כיצד תוכל לשנוא!… אתה מפחד, סומך אך מעט על עצמך…” “ואתה,” הפסיק אותו אַרקָדי, “סומך על עצמך'"
      ]
     },
     "execution_count": 9,
     "metadata": {},
     "output_type": "execute_result"
    }
   ],
   "source": [
    "filtered_rows['text'].values[0]"
   ]
  },
  {
   "cell_type": "code",
   "execution_count": 10,
   "id": "c5adbac5",
   "metadata": {},
   "outputs": [
    {
     "data": {
      "application/vnd.jupyter.widget-view+json": {
       "model_id": "763df06100674b8a85f4e4caafab9276",
       "version_major": 2,
       "version_minor": 0
      },
      "text/plain": [
       "  0%|          | 0/114261 [00:00<?, ?it/s]"
      ]
     },
     "metadata": {},
     "output_type": "display_data"
    },
    {
     "name": "stderr",
     "output_type": "stream",
     "text": [
      "Token indices sequence length is longer than the specified maximum sequence length for this model (2492 > 2048). Running this sequence through the model will result in indexing errors\n"
     ]
    },
    {
     "data": {
      "text/plain": [
       "(60315, 6)"
      ]
     },
     "execution_count": 10,
     "metadata": {},
     "output_type": "execute_result"
    }
   ],
   "source": [
    "from tqdm.notebook import tqdm\n",
    "\n",
    "tqdm.pandas()  # Enable tqdm for pandas\n",
    "\n",
    "# filtered_df = df[df['nikud_mask'].apply(lambda x: has_1s_run(ast.literal_eval(x)) if isinstance(x, str) else has_1s_run(x))]\n",
    "filtered_df = df[df.progress_apply(column_filter, axis=1)]\n",
    "filtered_df.shape"
   ]
  },
  {
   "cell_type": "code",
   "execution_count": 11,
   "id": "749048b4",
   "metadata": {},
   "outputs": [],
   "source": [
    "sample_text = filtered_df.head(1).values[0][2]\n",
    "sample_mask = filtered_df.head(1).values[0][3]\n",
    "# has_1s_run(sample_text, ast.literal_eval(sample_mask))\n"
   ]
  },
  {
   "cell_type": "code",
   "execution_count": 12,
   "id": "a182882c",
   "metadata": {},
   "outputs": [
    {
     "data": {
      "text/html": [
       "<div>\n",
       "<style scoped>\n",
       "    .dataframe tbody tr th:only-of-type {\n",
       "        vertical-align: middle;\n",
       "    }\n",
       "\n",
       "    .dataframe tbody tr th {\n",
       "        vertical-align: top;\n",
       "    }\n",
       "\n",
       "    .dataframe thead th {\n",
       "        text-align: right;\n",
       "    }\n",
       "</style>\n",
       "<table border=\"1\" class=\"dataframe\">\n",
       "  <thead>\n",
       "    <tr style=\"text-align: right;\">\n",
       "      <th></th>\n",
       "      <th>id</th>\n",
       "      <th>title</th>\n",
       "      <th>text</th>\n",
       "      <th>nikud_mask</th>\n",
       "      <th>text_length</th>\n",
       "      <th>nikud_mask_length</th>\n",
       "    </tr>\n",
       "  </thead>\n",
       "  <tbody>\n",
       "    <tr>\n",
       "      <th>6</th>\n",
       "      <td>10290</td>\n",
       "      <td>הנפט זורם לים התיכון</td>\n",
       "      <td>הנפט זורם לים התיכון מאת ישראל זרחי חלק ראשון ...</td>\n",
       "      <td>[0, 0, 0, 0, 0, 0, 0, 0, 0, 0, 0, 0, 0, 0, 0, ...</td>\n",
       "      <td>183</td>\n",
       "      <td>180</td>\n",
       "    </tr>\n",
       "    <tr>\n",
       "      <th>7</th>\n",
       "      <td>10290</td>\n",
       "      <td>הנפט זורם לים התיכון</td>\n",
       "      <td>כלים יימָצאו כבר</td>\n",
       "      <td>[0, 0, 0, 0, 0, 0, 0, 0, 1, 0, 0, 0, 0, 0, 0, ...</td>\n",
       "      <td>16</td>\n",
       "      <td>17</td>\n",
       "    </tr>\n",
       "    <tr>\n",
       "      <th>8</th>\n",
       "      <td>10290</td>\n",
       "      <td>הנפט זורם לים התיכון</td>\n",
       "      <td>לא היה דמיון בספָרות המוזרות ולא טעם בשאר הלימ...</td>\n",
       "      <td>[0, 0, 0, 0, 0, 0, 0, 0, 0, 0, 0, 0, 0, 0, 0, ...</td>\n",
       "      <td>50</td>\n",
       "      <td>51</td>\n",
       "    </tr>\n",
       "    <tr>\n",
       "      <th>9</th>\n",
       "      <td>10290</td>\n",
       "      <td>הנפט זורם לים התיכון</td>\n",
       "      <td>אותו לא ירמו – אבל כשעבר השיעור מבלי שהמורה יע...</td>\n",
       "      <td>[0, 0, 0, 0, 0, 0, 0, 0, 0, 0, 0, 0, 0, 0, 0, ...</td>\n",
       "      <td>388</td>\n",
       "      <td>389</td>\n",
       "    </tr>\n",
       "    <tr>\n",
       "      <th>10</th>\n",
       "      <td>10290</td>\n",
       "      <td>הנפט זורם לים התיכון</td>\n",
       "      <td>בלילה, משחזר אבא בעגלתו מהשדה ונכנס לאורווה במ...</td>\n",
       "      <td>[0, 0, 0, 0, 0, 0, 0, 0, 0, 0, 0, 0, 0, 0, 0, ...</td>\n",
       "      <td>228</td>\n",
       "      <td>229</td>\n",
       "    </tr>\n",
       "  </tbody>\n",
       "</table>\n",
       "</div>"
      ],
      "text/plain": [
       "       id                 title  \\\n",
       "6   10290  הנפט זורם לים התיכון   \n",
       "7   10290  הנפט זורם לים התיכון   \n",
       "8   10290  הנפט זורם לים התיכון   \n",
       "9   10290  הנפט זורם לים התיכון   \n",
       "10  10290  הנפט זורם לים התיכון   \n",
       "\n",
       "                                                 text  \\\n",
       "6   הנפט זורם לים התיכון מאת ישראל זרחי חלק ראשון ...   \n",
       "7                                    כלים יימָצאו כבר   \n",
       "8   לא היה דמיון בספָרות המוזרות ולא טעם בשאר הלימ...   \n",
       "9   אותו לא ירמו – אבל כשעבר השיעור מבלי שהמורה יע...   \n",
       "10  בלילה, משחזר אבא בעגלתו מהשדה ונכנס לאורווה במ...   \n",
       "\n",
       "                                           nikud_mask  text_length  \\\n",
       "6   [0, 0, 0, 0, 0, 0, 0, 0, 0, 0, 0, 0, 0, 0, 0, ...          183   \n",
       "7   [0, 0, 0, 0, 0, 0, 0, 0, 1, 0, 0, 0, 0, 0, 0, ...           16   \n",
       "8   [0, 0, 0, 0, 0, 0, 0, 0, 0, 0, 0, 0, 0, 0, 0, ...           50   \n",
       "9   [0, 0, 0, 0, 0, 0, 0, 0, 0, 0, 0, 0, 0, 0, 0, ...          388   \n",
       "10  [0, 0, 0, 0, 0, 0, 0, 0, 0, 0, 0, 0, 0, 0, 0, ...          228   \n",
       "\n",
       "    nikud_mask_length  \n",
       "6                 180  \n",
       "7                  17  \n",
       "8                  51  \n",
       "9                 389  \n",
       "10                229  "
      ]
     },
     "execution_count": 12,
     "metadata": {},
     "output_type": "execute_result"
    }
   ],
   "source": [
    "filtered_df.head(5)"
   ]
  },
  {
   "cell_type": "code",
   "execution_count": 13,
   "id": "eb461656",
   "metadata": {},
   "outputs": [],
   "source": [
    "filtered_df.to_csv('./datasets/projectbenyehuda/benyehuda_nikud_dataset_filtered.csv', index=False)"
   ]
  }
 ],
 "metadata": {
  "kernelspec": {
   "display_name": "nikud-bert",
   "language": "python",
   "name": "python3"
  },
  "language_info": {
   "codemirror_mode": {
    "name": "ipython",
    "version": 3
   },
   "file_extension": ".py",
   "mimetype": "text/x-python",
   "name": "python",
   "nbconvert_exporter": "python",
   "pygments_lexer": "ipython3",
   "version": "3.10.18"
  }
 },
 "nbformat": 4,
 "nbformat_minor": 5
}

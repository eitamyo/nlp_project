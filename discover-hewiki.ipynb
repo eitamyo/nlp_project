{
 "cells": [
  {
   "cell_type": "code",
   "execution_count": 7,
   "id": "ad22061e",
   "metadata": {},
   "outputs": [],
   "source": [
    "import pandas as pd\n",
    "\n",
    "df = pd.read_csv('./datasets/hewiki/hebrew_nikud_dataset.csv')"
   ]
  },
  {
   "cell_type": "code",
   "execution_count": 8,
   "id": "5d80a226",
   "metadata": {},
   "outputs": [
    {
     "name": "stdout",
     "output_type": "stream",
     "text": [
      "                                                text  \\\n",
      "0  מָתֵמָטִיקָה היא תחום דעת העוסק במושגים כגון כ...   \n",
      "1  תחום מחקר נוסף הוא גודל, אשר מוביל לעוצמות ולת...   \n",
      "2       ריגורוזיוּת היא מרכיב יסודי בכל הוכחה מתמטית   \n",
      "3  חישובים בהיקף גדול קשים לאימות, ולכן יש הטועני...   \n",
      "4  אַקְסיּוֹמָה, אמיתה, או הנחת יסוד (בכתיב ארכאי...   \n",
      "\n",
      "                                               words  \\\n",
      "0  מָתֵמָטִיקָה היא תחום דעת העוסק במושגים כגון כ...   \n",
      "1  תחום מחקר נוסף הוא גודל, אשר מוביל לעוצמות ולת...   \n",
      "2       ריגורוזיוּת היא מרכיב יסודי בכל הוכחה מתמטית   \n",
      "3  חישובים בהיקף גדול קשים לאימות, ולכן יש הטועני...   \n",
      "4  אַקְסיּוֹמָה, אמיתה, או הנחת יסוד (בכתיב ארכאי...   \n",
      "\n",
      "                                      nikud_mask  \n",
      "0                          1 0 0 0 0 0 0 0 0 0 0  \n",
      "1  0 0 0 0 0 0 0 0 0 0 0 0 0 1 0 0 0 0 0 0 0 0 0  \n",
      "2                                  1 0 0 0 0 0 0  \n",
      "3                    0 0 0 0 0 0 0 0 0 0 0 0 1 0  \n",
      "4            1 0 0 0 0 0 0 1 0 0 0 0 0 0 0 0 0 0  \n",
      "<class 'pandas.core.frame.DataFrame'>\n",
      "RangeIndex: 31713 entries, 0 to 31712\n",
      "Data columns (total 3 columns):\n",
      " #   Column      Non-Null Count  Dtype \n",
      "---  ------      --------------  ----- \n",
      " 0   text        31713 non-null  object\n",
      " 1   words       31713 non-null  object\n",
      " 2   nikud_mask  31713 non-null  object\n",
      "dtypes: object(3)\n",
      "memory usage: 743.4+ KB\n",
      "None\n",
      "        text_length  words_length\n",
      "count  31713.000000  31713.000000\n",
      "mean     130.532526    130.528679\n",
      "std       71.844338     71.837061\n",
      "min        8.000000      8.000000\n",
      "25%       83.000000     83.000000\n",
      "50%      116.000000    116.000000\n",
      "75%      162.000000    162.000000\n",
      "max     1302.000000   1302.000000\n",
      "text            0\n",
      "words           0\n",
      "nikud_mask      0\n",
      "text_length     0\n",
      "words_length    0\n",
      "dtype: int64\n",
      "nikud_mask_length\n",
      "15    1566\n",
      "16    1535\n",
      "18    1486\n",
      "13    1450\n",
      "14    1438\n",
      "Name: count, dtype: int64\n"
     ]
    }
   ],
   "source": [
    "# Display the first few rows of the dataframe\n",
    "print(df.head())\n",
    "\n",
    "# Show basic info about the dataframe\n",
    "print(df.info())\n",
    "\n",
    "# Show summary statistics for the length of text and words columns\n",
    "df['text_length'] = df['text'].apply(len)\n",
    "df['words_length'] = df['words'].apply(len)\n",
    "print(df[['text_length', 'words_length']].describe())\n",
    "\n",
    "# Check for missing values\n",
    "print(df.isnull().sum())\n",
    "\n",
    "# Display the distribution of nikud_mask lengths\n",
    "df['nikud_mask_length'] = df['nikud_mask'].apply(lambda x: len(x.split()))\n",
    "print(df['nikud_mask_length'].value_counts().head())"
   ]
  },
  {
   "cell_type": "code",
   "execution_count": 9,
   "id": "cc4b3d6a",
   "metadata": {},
   "outputs": [],
   "source": [
    "import re\n",
    "\n",
    "NIKUD_PATTERN = re.compile(\n",
    "    '['\n",
    "    '\\u05B0'  # sheva\n",
    "    '\\u05B1'  # hataf segol\n",
    "    '\\u05B2'  # hataf patah\n",
    "    '\\u05B3'  # hataf qamats\n",
    "    '\\u05B4'  # hiriq\n",
    "    '\\u05B5'  # tsere\n",
    "    '\\u05B6'  # segol\n",
    "    '\\u05B7'  # patah\n",
    "    '\\u05B8'  # qamats\n",
    "    '\\u05B9'  # holam\n",
    "    '\\u05BB'  # qubuts\n",
    "    '\\u05BC'  # dagesh or mapiq\n",
    "    '\\u05BD'  # meteg\n",
    "    '\\u05BF'  # rafe (rare)\n",
    "    '\\u05C1'  # shin dot\n",
    "    '\\u05C2'  # sin dot\n",
    "    '\\u05C7'  # qamats qatan\n",
    "    ']'\n",
    ")"
   ]
  },
  {
   "cell_type": "code",
   "execution_count": 10,
   "id": "4a8c1d06",
   "metadata": {},
   "outputs": [
    {
     "name": "stdout",
     "output_type": "stream",
     "text": [
      "All rows contain at least one word with nikud: True\n"
     ]
    }
   ],
   "source": [
    "# Check if each row contains at least one word with nikud using NIKUD_PATTERN\n",
    "def has_word_with_nikud(text):\n",
    "    return any(NIKUD_PATTERN.search(word) for word in text.split())\n",
    "\n",
    "# Apply the function to the 'text' column and check if all rows satisfy the condition\n",
    "all_have_nikud = df['text'].apply(has_word_with_nikud).all()\n",
    "print(\"All rows contain at least one word with nikud:\", all_have_nikud)"
   ]
  }
 ],
 "metadata": {
  "kernelspec": {
   "display_name": "nikud-bert",
   "language": "python",
   "name": "python3"
  },
  "language_info": {
   "codemirror_mode": {
    "name": "ipython",
    "version": 3
   },
   "file_extension": ".py",
   "mimetype": "text/x-python",
   "name": "python",
   "nbconvert_exporter": "python",
   "pygments_lexer": "ipython3",
   "version": "3.10.18"
  }
 },
 "nbformat": 4,
 "nbformat_minor": 5
}

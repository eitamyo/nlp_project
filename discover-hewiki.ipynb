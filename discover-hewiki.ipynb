{
 "cells": [
  {
   "cell_type": "code",
   "execution_count": 1,
   "id": "ad22061e",
   "metadata": {},
   "outputs": [],
   "source": [
    "import pandas as pd\n",
    "\n",
    "df = pd.read_csv('./datasets/hewiki/hebrew_nikud_dataset.csv')"
   ]
  },
  {
   "cell_type": "code",
   "execution_count": 2,
   "id": "5d80a226",
   "metadata": {},
   "outputs": [
    {
     "name": "stdout",
     "output_type": "stream",
     "text": [
      "                                                text  \\\n",
      "0  מָתֵמָטִיקָה היא תחום דעת העוסק במושגים כגון כ...   \n",
      "1  תחום מחקר נוסף הוא גודל, אשר מוביל לעוצמות ולת...   \n",
      "2       ריגורוזיוּת היא מרכיב יסודי בכל הוכחה מתמטית   \n",
      "3  חישובים בהיקף גדול קשים לאימות, ולכן יש הטועני...   \n",
      "4  אַקְסיּוֹמָה, אמיתה, או הנחת יסוד (בכתיב ארכאי...   \n",
      "\n",
      "                                          nikud_mask article_title  \\\n",
      "0  [0, 1, 1, 1, 1, 0, 1, 0, 0, 0, 0, 0, 0, 0, 0, ...       מתמטיקה   \n",
      "1  [0, 0, 0, 0, 0, 0, 0, 0, 0, 0, 0, 0, 0, 0, 0, ...       מתמטיקה   \n",
      "2  [0, 0, 0, 0, 0, 0, 0, 0, 0, 1, 0, 0, 0, 0, 0, ...       מתמטיקה   \n",
      "3  [0, 0, 0, 0, 0, 0, 0, 0, 0, 0, 0, 0, 0, 0, 0, ...       מתמטיקה   \n",
      "4  [0, 1, 1, 0, 1, 1, 1, 0, 0, 0, 0, 0, 0, 0, 0, ...       אקסיומה   \n",
      "\n",
      "   article_length  \n",
      "0            3577  \n",
      "1            3577  \n",
      "2            3577  \n",
      "3            3577  \n",
      "4             505  \n",
      "<class 'pandas.core.frame.DataFrame'>\n",
      "RangeIndex: 118040 entries, 0 to 118039\n",
      "Data columns (total 4 columns):\n",
      " #   Column          Non-Null Count   Dtype \n",
      "---  ------          --------------   ----- \n",
      " 0   text            118040 non-null  object\n",
      " 1   nikud_mask      118040 non-null  object\n",
      " 2   article_title   118040 non-null  object\n",
      " 3   article_length  118040 non-null  int64 \n",
      "dtypes: int64(1), object(3)\n",
      "memory usage: 3.6+ MB\n",
      "None\n",
      "         text_length  article_length\n",
      "count  118040.000000   118040.000000\n",
      "mean      131.417265     1335.342680\n",
      "std        73.846474     1993.892077\n",
      "min         2.000000        1.000000\n",
      "25%        84.000000      306.000000\n",
      "50%       119.000000      624.000000\n",
      "75%       163.000000     1446.000000\n",
      "max      2610.000000    29174.000000\n",
      "text              0\n",
      "nikud_mask        0\n",
      "article_title     0\n",
      "article_length    0\n",
      "text_length       0\n",
      "dtype: int64\n",
      "nikud_mask_length\n",
      "90    957\n",
      "94    953\n",
      "85    939\n",
      "98    935\n",
      "95    933\n",
      "Name: count, dtype: int64\n"
     ]
    }
   ],
   "source": [
    "# Display the first few rows of the dataframe\n",
    "print(df.head())\n",
    "\n",
    "# Show basic info about the dataframe\n",
    "print(df.info())\n",
    "\n",
    "# Show summary statistics for the length of text and article_length columns\n",
    "df['text_length'] = df['text'].apply(len)\n",
    "print(df[['text_length', 'article_length']].describe())\n",
    "\n",
    "# Check for missing values\n",
    "print(df.isnull().sum())\n",
    "\n",
    "# Display the distribution of nikud_mask lengths\n",
    "df['nikud_mask_length'] = df['nikud_mask'].apply(lambda x: len(x.split()))\n",
    "print(df['nikud_mask_length'].value_counts().head())"
   ]
  },
  {
   "cell_type": "code",
   "execution_count": 3,
   "id": "cc4b3d6a",
   "metadata": {},
   "outputs": [],
   "source": [
    "import re\n",
    "\n",
    "NIKUD_PATTERN = re.compile(\n",
    "    '['\n",
    "    '\\u05B0'  # sheva\n",
    "    '\\u05B1'  # hataf segol\n",
    "    '\\u05B2'  # hataf patah\n",
    "    '\\u05B3'  # hataf qamats\n",
    "    '\\u05B4'  # hiriq\n",
    "    '\\u05B5'  # tsere\n",
    "    '\\u05B6'  # segol\n",
    "    '\\u05B7'  # patah\n",
    "    '\\u05B8'  # qamats\n",
    "    '\\u05B9'  # holam\n",
    "    '\\u05BB'  # qubuts\n",
    "    '\\u05BC'  # dagesh or mapiq\n",
    "    '\\u05BD'  # meteg\n",
    "    '\\u05BF'  # rafe (rare)\n",
    "    '\\u05C1'  # shin dot\n",
    "    '\\u05C2'  # sin dot\n",
    "    '\\u05C7'  # qamats qatan\n",
    "    ']'\n",
    ")"
   ]
  },
  {
   "cell_type": "code",
   "execution_count": 4,
   "id": "4a8c1d06",
   "metadata": {},
   "outputs": [
    {
     "name": "stdout",
     "output_type": "stream",
     "text": [
      "All rows contain at least one word with nikud: True\n"
     ]
    }
   ],
   "source": [
    "# Check if each row contains at least one word with nikud using NIKUD_PATTERN\n",
    "def has_word_with_nikud(text):\n",
    "    return any(NIKUD_PATTERN.search(word) for word in text.split())\n",
    "\n",
    "# Apply the function to the 'text' column and check if all rows satisfy the condition\n",
    "all_have_nikud = df['text'].apply(has_word_with_nikud).all()\n",
    "print(\"All rows contain at least one word with nikud:\", all_have_nikud)"
   ]
  },
  {
   "cell_type": "code",
   "execution_count": 5,
   "id": "e6a4d8bc",
   "metadata": {},
   "outputs": [],
   "source": [
    "# Find rows where the nikud_mask contains only one to three 1s in a row (consecutive)\n",
    "def has_1s_run(mask, min_run=1, max_run=3):\n",
    "    mask_str = ''.join(str(x) for x in mask)\n",
    "    # Check for runs of 1s of length 1, 2, or 3\n",
    "    for run_length in range(max_run, min_run - 1, -1):\n",
    "        # print(f\"Checking for run of {run_length} 1s in mask: {mask_str}\")\n",
    "        i = mask_str.find(f\"{'1' * run_length}\")\n",
    "        if i != -1:\n",
    "            # print(f\"Found run of {run_length} 1s in mask: {mask_str} at position {i}\")\n",
    "            # Check if the run is isolated by at least 3 zeros\n",
    "            if (i == 0 or mask_str[i - 1] == '0') and (i + run_length == len(mask_str) or mask_str[i + run_length] == '0') and \\\n",
    "               (i <= 1 or mask_str[i - 2] == '0') and (i + run_length + 1 >= len(mask_str) or mask_str[i + run_length + 1] == '0'):\n",
    "                return True\n",
    "    return False"
   ]
  },
  {
   "cell_type": "code",
   "execution_count": 6,
   "id": "74e5c6eb",
   "metadata": {},
   "outputs": [
    {
     "data": {
      "text/plain": [
       "'[0, 0, 0, 0, 0, 0, 0, 0, 0, 0, 0, 0, 0, 0, 0, 0, 0, 0, 0, 0, 0, 0, 0, 0, 0, 0, 0, 0, 0, 0, 0, 0, 0, 0, 0, 0, 0, 0, 0, 0, 0, 0, 0, 0, 0, 0, 0, 0, 0, 0, 0, 0, 0, 0, 0, 0, 0, 0, 0, 0, 0, 0, 0, 0, 0, 0, 0, 0, 0, 0, 0, 0, 0, 0, 0, 0, 0, 0, 0, 0, 0, 0, 0, 0, 0, 0, 0, 0, 0, 0, 0, 0, 0, 0, 0, 0, 0, 0, 0, 0, 0, 0, 0, 0, 0, 0, 0, 0, 1, 1, 1, 0, 1, 0, 0, 0, 0, 0, 0, 0, 0, 0, 0, 0, 0, 0, 0, 0, 0, 0, 0]'"
      ]
     },
     "execution_count": 6,
     "metadata": {},
     "output_type": "execute_result"
    }
   ],
   "source": [
    "filtered_rows = df.sample(5)\n",
    "filtered_rows.iloc[0]['nikud_mask']\n"
   ]
  },
  {
   "cell_type": "code",
   "execution_count": 7,
   "id": "c5adbac5",
   "metadata": {},
   "outputs": [
    {
     "data": {
      "text/plain": [
       "(81995, 6)"
      ]
     },
     "execution_count": 7,
     "metadata": {},
     "output_type": "execute_result"
    }
   ],
   "source": [
    "import ast\n",
    "\n",
    "filtered_df = df[df['nikud_mask'].apply(lambda x: has_1s_run(ast.literal_eval(x)) if isinstance(x, str) else has_1s_run(x))]\n",
    "filtered_df.shape"
   ]
  },
  {
   "cell_type": "code",
   "execution_count": 8,
   "id": "749048b4",
   "metadata": {},
   "outputs": [
    {
     "data": {
      "text/html": [
       "<div>\n",
       "<style scoped>\n",
       "    .dataframe tbody tr th:only-of-type {\n",
       "        vertical-align: middle;\n",
       "    }\n",
       "\n",
       "    .dataframe tbody tr th {\n",
       "        vertical-align: top;\n",
       "    }\n",
       "\n",
       "    .dataframe thead th {\n",
       "        text-align: right;\n",
       "    }\n",
       "</style>\n",
       "<table border=\"1\" class=\"dataframe\">\n",
       "  <thead>\n",
       "    <tr style=\"text-align: right;\">\n",
       "      <th></th>\n",
       "      <th>text</th>\n",
       "      <th>nikud_mask</th>\n",
       "      <th>article_title</th>\n",
       "      <th>article_length</th>\n",
       "      <th>text_length</th>\n",
       "      <th>nikud_mask_length</th>\n",
       "    </tr>\n",
       "  </thead>\n",
       "  <tbody>\n",
       "    <tr>\n",
       "      <th>1</th>\n",
       "      <td>תחום מחקר נוסף הוא גודל, אשר מוביל לעוצמות ולת...</td>\n",
       "      <td>[0, 0, 0, 0, 0, 0, 0, 0, 0, 0, 0, 0, 0, 0, 0, ...</td>\n",
       "      <td>מתמטיקה</td>\n",
       "      <td>3577</td>\n",
       "      <td>141</td>\n",
       "      <td>141</td>\n",
       "    </tr>\n",
       "    <tr>\n",
       "      <th>2</th>\n",
       "      <td>ריגורוזיוּת היא מרכיב יסודי בכל הוכחה מתמטית</td>\n",
       "      <td>[0, 0, 0, 0, 0, 0, 0, 0, 0, 1, 0, 0, 0, 0, 0, ...</td>\n",
       "      <td>מתמטיקה</td>\n",
       "      <td>3577</td>\n",
       "      <td>44</td>\n",
       "      <td>45</td>\n",
       "    </tr>\n",
       "    <tr>\n",
       "      <th>3</th>\n",
       "      <td>חישובים בהיקף גדול קשים לאימות, ולכן יש הטועני...</td>\n",
       "      <td>[0, 0, 0, 0, 0, 0, 0, 0, 0, 0, 0, 0, 0, 0, 0, ...</td>\n",
       "      <td>מתמטיקה</td>\n",
       "      <td>3577</td>\n",
       "      <td>85</td>\n",
       "      <td>86</td>\n",
       "    </tr>\n",
       "    <tr>\n",
       "      <th>5</th>\n",
       "      <td>תורת האֶתֶר גרסה שיש חומר הממלא את כל המרחב, ו...</td>\n",
       "      <td>[0, 0, 0, 0, 0, 0, 0, 1, 1, 0, 0, 0, 0, 0, 0, ...</td>\n",
       "      <td>אקסיומה</td>\n",
       "      <td>505</td>\n",
       "      <td>70</td>\n",
       "      <td>70</td>\n",
       "    </tr>\n",
       "    <tr>\n",
       "      <th>6</th>\n",
       "      <td>בניסוי מייקלסון-מורלי נמדדה מהירות הקפת כדור ה...</td>\n",
       "      <td>[0, 0, 0, 0, 0, 0, 0, 0, 0, 0, 0, 0, 0, 0, 0, ...</td>\n",
       "      <td>אקסיומה</td>\n",
       "      <td>505</td>\n",
       "      <td>151</td>\n",
       "      <td>151</td>\n",
       "    </tr>\n",
       "  </tbody>\n",
       "</table>\n",
       "</div>"
      ],
      "text/plain": [
       "                                                text  \\\n",
       "1  תחום מחקר נוסף הוא גודל, אשר מוביל לעוצמות ולת...   \n",
       "2       ריגורוזיוּת היא מרכיב יסודי בכל הוכחה מתמטית   \n",
       "3  חישובים בהיקף גדול קשים לאימות, ולכן יש הטועני...   \n",
       "5  תורת האֶתֶר גרסה שיש חומר הממלא את כל המרחב, ו...   \n",
       "6  בניסוי מייקלסון-מורלי נמדדה מהירות הקפת כדור ה...   \n",
       "\n",
       "                                          nikud_mask article_title  \\\n",
       "1  [0, 0, 0, 0, 0, 0, 0, 0, 0, 0, 0, 0, 0, 0, 0, ...       מתמטיקה   \n",
       "2  [0, 0, 0, 0, 0, 0, 0, 0, 0, 1, 0, 0, 0, 0, 0, ...       מתמטיקה   \n",
       "3  [0, 0, 0, 0, 0, 0, 0, 0, 0, 0, 0, 0, 0, 0, 0, ...       מתמטיקה   \n",
       "5  [0, 0, 0, 0, 0, 0, 0, 1, 1, 0, 0, 0, 0, 0, 0, ...       אקסיומה   \n",
       "6  [0, 0, 0, 0, 0, 0, 0, 0, 0, 0, 0, 0, 0, 0, 0, ...       אקסיומה   \n",
       "\n",
       "   article_length  text_length  nikud_mask_length  \n",
       "1            3577          141                141  \n",
       "2            3577           44                 45  \n",
       "3            3577           85                 86  \n",
       "5             505           70                 70  \n",
       "6             505          151                151  "
      ]
     },
     "execution_count": 8,
     "metadata": {},
     "output_type": "execute_result"
    }
   ],
   "source": [
    "filtered_df.head()"
   ]
  },
  {
   "cell_type": "code",
   "execution_count": 9,
   "id": "eb461656",
   "metadata": {},
   "outputs": [],
   "source": [
    "filtered_df.to_csv('./datasets/hewiki/hebrew_nikud_dataset_filtered.csv', index=False)"
   ]
  }
 ],
 "metadata": {
  "kernelspec": {
   "display_name": "nikud-bert",
   "language": "python",
   "name": "python3"
  },
  "language_info": {
   "codemirror_mode": {
    "name": "ipython",
    "version": 3
   },
   "file_extension": ".py",
   "mimetype": "text/x-python",
   "name": "python",
   "nbconvert_exporter": "python",
   "pygments_lexer": "ipython3",
   "version": "3.10.18"
  }
 },
 "nbformat": 4,
 "nbformat_minor": 5
}

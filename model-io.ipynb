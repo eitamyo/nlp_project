{
 "cells": [
  {
   "cell_type": "markdown",
   "id": "18db031b",
   "metadata": {},
   "source": [
    "# Import Required Libraries\n",
    "Import torch and the necessary classes from the transformers library."
   ]
  },
  {
   "cell_type": "code",
   "execution_count": 12,
   "id": "08362824",
   "metadata": {},
   "outputs": [],
   "source": [
    "import torch\n",
    "from transformers import AutoTokenizer, AutoModel"
   ]
  },
  {
   "cell_type": "markdown",
   "id": "d26e297a",
   "metadata": {},
   "source": [
    "# Load Tokenizer and Model\n",
    "Load the AutoTokenizer and AutoModel for 'dicta-il/dictabert-large-char-menaked'. Set the model to evaluation mode."
   ]
  },
  {
   "cell_type": "code",
   "execution_count": 13,
   "id": "58436999",
   "metadata": {},
   "outputs": [
    {
     "data": {
      "text/plain": [
       "BertForDiacritization(\n",
       "  (bert): BertModel(\n",
       "    (embeddings): BertEmbeddings(\n",
       "      (word_embeddings): Embedding(1024, 1024, padding_idx=0)\n",
       "      (position_embeddings): Embedding(2048, 1024)\n",
       "      (token_type_embeddings): Embedding(2, 1024)\n",
       "      (LayerNorm): LayerNorm((1024,), eps=1e-12, elementwise_affine=True)\n",
       "      (dropout): Dropout(p=0.1, inplace=False)\n",
       "    )\n",
       "    (encoder): BertEncoder(\n",
       "      (layer): ModuleList(\n",
       "        (0-23): 24 x BertLayer(\n",
       "          (attention): BertAttention(\n",
       "            (self): BertSdpaSelfAttention(\n",
       "              (query): Linear(in_features=1024, out_features=1024, bias=True)\n",
       "              (key): Linear(in_features=1024, out_features=1024, bias=True)\n",
       "              (value): Linear(in_features=1024, out_features=1024, bias=True)\n",
       "              (dropout): Dropout(p=0.1, inplace=False)\n",
       "            )\n",
       "            (output): BertSelfOutput(\n",
       "              (dense): Linear(in_features=1024, out_features=1024, bias=True)\n",
       "              (LayerNorm): LayerNorm((1024,), eps=1e-12, elementwise_affine=True)\n",
       "              (dropout): Dropout(p=0.1, inplace=False)\n",
       "            )\n",
       "          )\n",
       "          (intermediate): BertIntermediate(\n",
       "            (dense): Linear(in_features=1024, out_features=4096, bias=True)\n",
       "            (intermediate_act_fn): GELUActivation()\n",
       "          )\n",
       "          (output): BertOutput(\n",
       "            (dense): Linear(in_features=4096, out_features=1024, bias=True)\n",
       "            (LayerNorm): LayerNorm((1024,), eps=1e-12, elementwise_affine=True)\n",
       "            (dropout): Dropout(p=0.1, inplace=False)\n",
       "          )\n",
       "        )\n",
       "      )\n",
       "    )\n",
       "  )\n",
       "  (dropout): Dropout(p=0.1, inplace=False)\n",
       "  (menaked): BertMenakedHead(\n",
       "    (nikud_cls): Linear(in_features=1024, out_features=29, bias=True)\n",
       "    (shin_cls): Linear(in_features=1024, out_features=2, bias=True)\n",
       "  )\n",
       ")"
      ]
     },
     "execution_count": 13,
     "metadata": {},
     "output_type": "execute_result"
    }
   ],
   "source": [
    "model_name = \"dicta-il/dictabert-large-char-menaked\"\n",
    "tokenizer = AutoTokenizer.from_pretrained(model_name)\n",
    "model = AutoModel.from_pretrained(model_name, trust_remote_code=True)\n",
    "model.eval()"
   ]
  },
  {
   "cell_type": "code",
   "execution_count": 16,
   "id": "5a97c4c1",
   "metadata": {},
   "outputs": [],
   "source": [
    "def predict_with_probs(sentences, tokenizer, model, mark_matres_lectionis=None, top_k=5):\n",
    "    # Use model.predict for decoded output\n",
    "    decoded = model.predict(sentences, tokenizer, mark_matres_lectionis=mark_matres_lectionis)\n",
    "    \n",
    "    # Manual forward pass\n",
    "    inputs = tokenizer(sentences, padding='longest', truncation=True,\n",
    "                       return_tensors='pt', return_offsets_mapping=True)\n",
    "    offset_mapping = inputs.pop('offset_mapping')\n",
    "    inputs = {k: v.to(model.device) for k, v in inputs.items()}\n",
    "    \n",
    "    with torch.no_grad():\n",
    "        outputs = model.forward(**inputs, return_dict=True)\n",
    "    logits = outputs.logits  # MenakedLogitsOutput\n",
    "    nikud_logits = logits.nikud_logits  # [batch, seq_len, num_nikud]\n",
    "    shin_logits = logits.shin_logits    # [batch, seq_len, num_shin]\n",
    "    \n",
    "    results = []\n",
    "    for sent_idx, (sentence, offsets) in enumerate(zip(sentences, offset_mapping)):\n",
    "        # For each character token, collect top-k probabilities\n",
    "        sent_data = {'decoded': decoded[sent_idx], 'chars': []}\n",
    "        probs = torch.softmax(nikud_logits[sent_idx], dim=-1)  # probabilities\n",
    "        \n",
    "        for i, (start, end) in enumerate(offsets):\n",
    "            if end - start != 1:\n",
    "                continue\n",
    "            char = sentence[start:end]\n",
    "            dist = probs[i]\n",
    "            top_p, top_ids = torch.topk(dist, top_k)\n",
    "            sent_data['chars'].append({\n",
    "                'char': char,\n",
    "                'predictions': {\n",
    "                    model.config.nikud_classes[label_id.item()]: float(p.item())\n",
    "                    for p, label_id in zip(top_p, top_ids)\n",
    "                }\n",
    "            })\n",
    "        results.append(sent_data)\n",
    "    return results\n"
   ]
  },
  {
   "cell_type": "code",
   "execution_count": 19,
   "id": "cc071d40",
   "metadata": {},
   "outputs": [
    {
     "name": "stdout",
     "output_type": "stream",
     "text": [
      "{'chars': [{'char': 'ל',\n",
      "            'predictions': {'ֵ': 0.30501502752304077,\n",
      "                            'ֶ': 0.4193100929260254,\n",
      "                            'ַ': 0.14278148114681244}},\n",
      "           {'char': 'י',\n",
      "            'predictions': {'': 0.6885529160499573,\n",
      "                            '<MAT_LECT>': 0.05325696989893913,\n",
      "                            'ְ': 0.15395373106002808}},\n",
      "           {'char': 'י',\n",
      "            'predictions': {'': 0.13126079738140106,\n",
      "                            '<MAT_LECT>': 0.8599182367324829,\n",
      "                            'ְ': 0.003723365720361471}},\n",
      "           {'char': 'ר',\n",
      "            'predictions': {'': 0.05877650901675224,\n",
      "                            'ֶ': 0.11981965601444244,\n",
      "                            'ָ': 0.8134917616844177}},\n",
      "           {'char': 'ה',\n",
      "            'predictions': {'': 0.9990084767341614,\n",
      "                            'ָ': 1.9796716514974833e-05,\n",
      "                            'ּ': 0.0008896052022464573}}],\n",
      " 'decoded': 'לֶירָה'}\n"
     ]
    }
   ],
   "source": [
    "res = predict_with_probs([\"ליירה\"], tokenizer, model, top_k=3)\n",
    "import pprint; pprint.pprint(res[0])"
   ]
  }
 ],
 "metadata": {
  "kernelspec": {
   "display_name": "nikud-bert",
   "language": "python",
   "name": "python3"
  },
  "language_info": {
   "codemirror_mode": {
    "name": "ipython",
    "version": 3
   },
   "file_extension": ".py",
   "mimetype": "text/x-python",
   "name": "python",
   "nbconvert_exporter": "python",
   "pygments_lexer": "ipython3",
   "version": "3.10.18"
  }
 },
 "nbformat": 4,
 "nbformat_minor": 5
}
